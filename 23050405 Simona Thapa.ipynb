{
 "cells": [
  {
   "cell_type": "code",
   "execution_count": 1,
   "id": "6015dffc-8fbb-4fec-ab5c-68fb31617a99",
   "metadata": {},
   "outputs": [],
   "source": [
    "import numpy as np #importing numpy libary\n",
    "import pandas as pd #importing pandas libary"
   ]
  },
  {
   "cell_type": "code",
   "execution_count": 2,
   "id": "657809d5-8fd2-4981-89d1-2dbce0b12abe",
   "metadata": {},
   "outputs": [
    {
     "name": "stderr",
     "output_type": "stream",
     "text": [
      "C:\\Users\\DELL\\AppData\\Local\\Temp\\ipykernel_13936\\898398957.py:1: DtypeWarning: Columns (48,49) have mixed types. Specify dtype option on import or set low_memory=False.\n",
      "  df=pd.read_csv(\"Customer Service_Requests_from_2010_to_Present.csv\") #importing the CSV file by using pandas\n"
     ]
    }
   ],
   "source": [
    "df=pd.read_csv(\"Customer Service_Requests_from_2010_to_Present.csv\") #importing the CSV file by using pandas\n"
   ]
  },
  {
   "cell_type": "code",
   "execution_count": 3,
   "id": "01b4c637-5bf9-42df-b18d-83f61f821d53",
   "metadata": {},
   "outputs": [],
   "source": [
    "df = pd.read_csv(\"Customer Service_Requests_from_2010_to_Present.csv\", low_memory=False)\n",
    "# solving dtypewarning "
   ]
  },
  {
   "cell_type": "code",
   "execution_count": 4,
   "id": "774a4179-8308-4040-9c51-7408ccdb09b8",
   "metadata": {
    "scrolled": true
   },
   "outputs": [
    {
     "name": "stdout",
     "output_type": "stream",
     "text": [
      "<class 'pandas.core.frame.DataFrame'>\n",
      "RangeIndex: 300698 entries, 0 to 300697\n",
      "Data columns (total 53 columns):\n",
      " #   Column                          Non-Null Count   Dtype  \n",
      "---  ------                          --------------   -----  \n",
      " 0   Unique Key                      300698 non-null  int64  \n",
      " 1   Created Date                    300698 non-null  object \n",
      " 2   Closed Date                     298534 non-null  object \n",
      " 3   Agency                          300698 non-null  object \n",
      " 4   Agency Name                     300698 non-null  object \n",
      " 5   Complaint Type                  300698 non-null  object \n",
      " 6   Descriptor                      294784 non-null  object \n",
      " 7   Location Type                   300567 non-null  object \n",
      " 8   Incident Zip                    298083 non-null  float64\n",
      " 9   Incident Address                256288 non-null  object \n",
      " 10  Street Name                     256288 non-null  object \n",
      " 11  Cross Street 1                  251419 non-null  object \n",
      " 12  Cross Street 2                  250919 non-null  object \n",
      " 13  Intersection Street 1           43858 non-null   object \n",
      " 14  Intersection Street 2           43362 non-null   object \n",
      " 15  Address Type                    297883 non-null  object \n",
      " 16  City                            298084 non-null  object \n",
      " 17  Landmark                        349 non-null     object \n",
      " 18  Facility Type                   298527 non-null  object \n",
      " 19  Status                          300698 non-null  object \n",
      " 20  Due Date                        300695 non-null  object \n",
      " 21  Resolution Description          300698 non-null  object \n",
      " 22  Resolution Action Updated Date  298511 non-null  object \n",
      " 23  Community Board                 300698 non-null  object \n",
      " 24  Borough                         300698 non-null  object \n",
      " 25  X Coordinate (State Plane)      297158 non-null  float64\n",
      " 26  Y Coordinate (State Plane)      297158 non-null  float64\n",
      " 27  Park Facility Name              300698 non-null  object \n",
      " 28  Park Borough                    300698 non-null  object \n",
      " 29  School Name                     300698 non-null  object \n",
      " 30  School Number                   300698 non-null  object \n",
      " 31  School Region                   300697 non-null  object \n",
      " 32  School Code                     300697 non-null  object \n",
      " 33  School Phone Number             300698 non-null  object \n",
      " 34  School Address                  300698 non-null  object \n",
      " 35  School City                     300698 non-null  object \n",
      " 36  School State                    300698 non-null  object \n",
      " 37  School Zip                      300697 non-null  object \n",
      " 38  School Not Found                300698 non-null  object \n",
      " 39  School or Citywide Complaint    0 non-null       float64\n",
      " 40  Vehicle Type                    0 non-null       float64\n",
      " 41  Taxi Company Borough            0 non-null       float64\n",
      " 42  Taxi Pick Up Location           0 non-null       float64\n",
      " 43  Bridge Highway Name             243 non-null     object \n",
      " 44  Bridge Highway Direction        243 non-null     object \n",
      " 45  Road Ramp                       213 non-null     object \n",
      " 46  Bridge Highway Segment          213 non-null     object \n",
      " 47  Garage Lot Name                 0 non-null       float64\n",
      " 48  Ferry Direction                 1 non-null       object \n",
      " 49  Ferry Terminal Name             2 non-null       object \n",
      " 50  Latitude                        297158 non-null  float64\n",
      " 51  Longitude                       297158 non-null  float64\n",
      " 52  Location                        297158 non-null  object \n",
      "dtypes: float64(10), int64(1), object(42)\n",
      "memory usage: 121.6+ MB\n"
     ]
    }
   ],
   "source": [
    "df.info() #display all the columns"
   ]
  },
  {
   "cell_type": "code",
   "execution_count": 5,
   "id": "fc1e0711-9711-4e7e-8e0b-ef5361ee3b40",
   "metadata": {},
   "outputs": [
    {
     "data": {
      "text/html": [
       "<div>\n",
       "<style scoped>\n",
       "    .dataframe tbody tr th:only-of-type {\n",
       "        vertical-align: middle;\n",
       "    }\n",
       "\n",
       "    .dataframe tbody tr th {\n",
       "        vertical-align: top;\n",
       "    }\n",
       "\n",
       "    .dataframe thead th {\n",
       "        text-align: right;\n",
       "    }\n",
       "</style>\n",
       "<table border=\"1\" class=\"dataframe\">\n",
       "  <thead>\n",
       "    <tr style=\"text-align: right;\">\n",
       "      <th></th>\n",
       "      <th>Unique Key</th>\n",
       "      <th>Created Date</th>\n",
       "      <th>Closed Date</th>\n",
       "      <th>Agency</th>\n",
       "      <th>Agency Name</th>\n",
       "      <th>Complaint Type</th>\n",
       "      <th>Descriptor</th>\n",
       "      <th>Location Type</th>\n",
       "      <th>Incident Zip</th>\n",
       "      <th>Incident Address</th>\n",
       "      <th>...</th>\n",
       "      <th>Bridge Highway Name</th>\n",
       "      <th>Bridge Highway Direction</th>\n",
       "      <th>Road Ramp</th>\n",
       "      <th>Bridge Highway Segment</th>\n",
       "      <th>Garage Lot Name</th>\n",
       "      <th>Ferry Direction</th>\n",
       "      <th>Ferry Terminal Name</th>\n",
       "      <th>Latitude</th>\n",
       "      <th>Longitude</th>\n",
       "      <th>Location</th>\n",
       "    </tr>\n",
       "  </thead>\n",
       "  <tbody>\n",
       "    <tr>\n",
       "      <th>0</th>\n",
       "      <td>32310363</td>\n",
       "      <td>12/31/2015 11:59:45 PM</td>\n",
       "      <td>01-01-16 0:55</td>\n",
       "      <td>NYPD</td>\n",
       "      <td>New York City Police Department</td>\n",
       "      <td>Noise - Street/Sidewalk</td>\n",
       "      <td>Loud Music/Party</td>\n",
       "      <td>Street/Sidewalk</td>\n",
       "      <td>10034.0</td>\n",
       "      <td>71 VERMILYEA AVENUE</td>\n",
       "      <td>...</td>\n",
       "      <td>NaN</td>\n",
       "      <td>NaN</td>\n",
       "      <td>NaN</td>\n",
       "      <td>NaN</td>\n",
       "      <td>NaN</td>\n",
       "      <td>NaN</td>\n",
       "      <td>NaN</td>\n",
       "      <td>40.865682</td>\n",
       "      <td>-73.923501</td>\n",
       "      <td>(40.86568153633767, -73.92350095571744)</td>\n",
       "    </tr>\n",
       "    <tr>\n",
       "      <th>1</th>\n",
       "      <td>32309934</td>\n",
       "      <td>12/31/2015 11:59:44 PM</td>\n",
       "      <td>01-01-16 1:26</td>\n",
       "      <td>NYPD</td>\n",
       "      <td>New York City Police Department</td>\n",
       "      <td>Blocked Driveway</td>\n",
       "      <td>No Access</td>\n",
       "      <td>Street/Sidewalk</td>\n",
       "      <td>11105.0</td>\n",
       "      <td>27-07 23 AVENUE</td>\n",
       "      <td>...</td>\n",
       "      <td>NaN</td>\n",
       "      <td>NaN</td>\n",
       "      <td>NaN</td>\n",
       "      <td>NaN</td>\n",
       "      <td>NaN</td>\n",
       "      <td>NaN</td>\n",
       "      <td>NaN</td>\n",
       "      <td>40.775945</td>\n",
       "      <td>-73.915094</td>\n",
       "      <td>(40.775945312321085, -73.91509393898605)</td>\n",
       "    </tr>\n",
       "    <tr>\n",
       "      <th>2</th>\n",
       "      <td>32309159</td>\n",
       "      <td>12/31/2015 11:59:29 PM</td>\n",
       "      <td>01-01-16 4:51</td>\n",
       "      <td>NYPD</td>\n",
       "      <td>New York City Police Department</td>\n",
       "      <td>Blocked Driveway</td>\n",
       "      <td>No Access</td>\n",
       "      <td>Street/Sidewalk</td>\n",
       "      <td>10458.0</td>\n",
       "      <td>2897 VALENTINE AVENUE</td>\n",
       "      <td>...</td>\n",
       "      <td>NaN</td>\n",
       "      <td>NaN</td>\n",
       "      <td>NaN</td>\n",
       "      <td>NaN</td>\n",
       "      <td>NaN</td>\n",
       "      <td>NaN</td>\n",
       "      <td>NaN</td>\n",
       "      <td>40.870325</td>\n",
       "      <td>-73.888525</td>\n",
       "      <td>(40.870324522111424, -73.88852464418646)</td>\n",
       "    </tr>\n",
       "  </tbody>\n",
       "</table>\n",
       "<p>3 rows × 53 columns</p>\n",
       "</div>"
      ],
      "text/plain": [
       "   Unique Key            Created Date    Closed Date Agency  \\\n",
       "0    32310363  12/31/2015 11:59:45 PM  01-01-16 0:55   NYPD   \n",
       "1    32309934  12/31/2015 11:59:44 PM  01-01-16 1:26   NYPD   \n",
       "2    32309159  12/31/2015 11:59:29 PM  01-01-16 4:51   NYPD   \n",
       "\n",
       "                       Agency Name           Complaint Type        Descriptor  \\\n",
       "0  New York City Police Department  Noise - Street/Sidewalk  Loud Music/Party   \n",
       "1  New York City Police Department         Blocked Driveway         No Access   \n",
       "2  New York City Police Department         Blocked Driveway         No Access   \n",
       "\n",
       "     Location Type  Incident Zip       Incident Address  ...  \\\n",
       "0  Street/Sidewalk       10034.0    71 VERMILYEA AVENUE  ...   \n",
       "1  Street/Sidewalk       11105.0        27-07 23 AVENUE  ...   \n",
       "2  Street/Sidewalk       10458.0  2897 VALENTINE AVENUE  ...   \n",
       "\n",
       "  Bridge Highway Name Bridge Highway Direction Road Ramp  \\\n",
       "0                 NaN                      NaN       NaN   \n",
       "1                 NaN                      NaN       NaN   \n",
       "2                 NaN                      NaN       NaN   \n",
       "\n",
       "  Bridge Highway Segment Garage Lot Name Ferry Direction Ferry Terminal Name  \\\n",
       "0                    NaN             NaN             NaN                 NaN   \n",
       "1                    NaN             NaN             NaN                 NaN   \n",
       "2                    NaN             NaN             NaN                 NaN   \n",
       "\n",
       "    Latitude  Longitude                                  Location  \n",
       "0  40.865682 -73.923501   (40.86568153633767, -73.92350095571744)  \n",
       "1  40.775945 -73.915094  (40.775945312321085, -73.91509393898605)  \n",
       "2  40.870325 -73.888525  (40.870324522111424, -73.88852464418646)  \n",
       "\n",
       "[3 rows x 53 columns]"
      ]
     },
     "execution_count": 5,
     "metadata": {},
     "output_type": "execute_result"
    }
   ],
   "source": [
    "df.head(3) #display the info of three rows"
   ]
  },
  {
   "cell_type": "code",
   "execution_count": 6,
   "id": "87e10ecd-6ab9-4e91-a4f5-6f2adef74029",
   "metadata": {},
   "outputs": [
    {
     "data": {
      "text/html": [
       "<div>\n",
       "<style scoped>\n",
       "    .dataframe tbody tr th:only-of-type {\n",
       "        vertical-align: middle;\n",
       "    }\n",
       "\n",
       "    .dataframe tbody tr th {\n",
       "        vertical-align: top;\n",
       "    }\n",
       "\n",
       "    .dataframe thead th {\n",
       "        text-align: right;\n",
       "    }\n",
       "</style>\n",
       "<table border=\"1\" class=\"dataframe\">\n",
       "  <thead>\n",
       "    <tr style=\"text-align: right;\">\n",
       "      <th></th>\n",
       "      <th>Unique Key</th>\n",
       "      <th>Incident Zip</th>\n",
       "      <th>X Coordinate (State Plane)</th>\n",
       "      <th>Y Coordinate (State Plane)</th>\n",
       "      <th>School or Citywide Complaint</th>\n",
       "      <th>Vehicle Type</th>\n",
       "      <th>Taxi Company Borough</th>\n",
       "      <th>Taxi Pick Up Location</th>\n",
       "      <th>Garage Lot Name</th>\n",
       "      <th>Latitude</th>\n",
       "      <th>Longitude</th>\n",
       "    </tr>\n",
       "  </thead>\n",
       "  <tbody>\n",
       "    <tr>\n",
       "      <th>count</th>\n",
       "      <td>3.006980e+05</td>\n",
       "      <td>298083.000000</td>\n",
       "      <td>2.971580e+05</td>\n",
       "      <td>297158.000000</td>\n",
       "      <td>0.0</td>\n",
       "      <td>0.0</td>\n",
       "      <td>0.0</td>\n",
       "      <td>0.0</td>\n",
       "      <td>0.0</td>\n",
       "      <td>297158.000000</td>\n",
       "      <td>297158.000000</td>\n",
       "    </tr>\n",
       "    <tr>\n",
       "      <th>mean</th>\n",
       "      <td>3.130054e+07</td>\n",
       "      <td>10848.888645</td>\n",
       "      <td>1.004854e+06</td>\n",
       "      <td>203754.534416</td>\n",
       "      <td>NaN</td>\n",
       "      <td>NaN</td>\n",
       "      <td>NaN</td>\n",
       "      <td>NaN</td>\n",
       "      <td>NaN</td>\n",
       "      <td>40.725885</td>\n",
       "      <td>-73.925630</td>\n",
       "    </tr>\n",
       "    <tr>\n",
       "      <th>std</th>\n",
       "      <td>5.738547e+05</td>\n",
       "      <td>583.182081</td>\n",
       "      <td>2.175338e+04</td>\n",
       "      <td>29880.183529</td>\n",
       "      <td>NaN</td>\n",
       "      <td>NaN</td>\n",
       "      <td>NaN</td>\n",
       "      <td>NaN</td>\n",
       "      <td>NaN</td>\n",
       "      <td>0.082012</td>\n",
       "      <td>0.078454</td>\n",
       "    </tr>\n",
       "    <tr>\n",
       "      <th>min</th>\n",
       "      <td>3.027948e+07</td>\n",
       "      <td>83.000000</td>\n",
       "      <td>9.133570e+05</td>\n",
       "      <td>121219.000000</td>\n",
       "      <td>NaN</td>\n",
       "      <td>NaN</td>\n",
       "      <td>NaN</td>\n",
       "      <td>NaN</td>\n",
       "      <td>NaN</td>\n",
       "      <td>40.499135</td>\n",
       "      <td>-74.254937</td>\n",
       "    </tr>\n",
       "    <tr>\n",
       "      <th>25%</th>\n",
       "      <td>3.080118e+07</td>\n",
       "      <td>10310.000000</td>\n",
       "      <td>9.919752e+05</td>\n",
       "      <td>183343.000000</td>\n",
       "      <td>NaN</td>\n",
       "      <td>NaN</td>\n",
       "      <td>NaN</td>\n",
       "      <td>NaN</td>\n",
       "      <td>NaN</td>\n",
       "      <td>40.669796</td>\n",
       "      <td>-73.972142</td>\n",
       "    </tr>\n",
       "    <tr>\n",
       "      <th>50%</th>\n",
       "      <td>3.130436e+07</td>\n",
       "      <td>11208.000000</td>\n",
       "      <td>1.003158e+06</td>\n",
       "      <td>201110.500000</td>\n",
       "      <td>NaN</td>\n",
       "      <td>NaN</td>\n",
       "      <td>NaN</td>\n",
       "      <td>NaN</td>\n",
       "      <td>NaN</td>\n",
       "      <td>40.718661</td>\n",
       "      <td>-73.931781</td>\n",
       "    </tr>\n",
       "    <tr>\n",
       "      <th>75%</th>\n",
       "      <td>3.178446e+07</td>\n",
       "      <td>11238.000000</td>\n",
       "      <td>1.018372e+06</td>\n",
       "      <td>224125.250000</td>\n",
       "      <td>NaN</td>\n",
       "      <td>NaN</td>\n",
       "      <td>NaN</td>\n",
       "      <td>NaN</td>\n",
       "      <td>NaN</td>\n",
       "      <td>40.781840</td>\n",
       "      <td>-73.876805</td>\n",
       "    </tr>\n",
       "    <tr>\n",
       "      <th>max</th>\n",
       "      <td>3.231065e+07</td>\n",
       "      <td>11697.000000</td>\n",
       "      <td>1.067173e+06</td>\n",
       "      <td>271876.000000</td>\n",
       "      <td>NaN</td>\n",
       "      <td>NaN</td>\n",
       "      <td>NaN</td>\n",
       "      <td>NaN</td>\n",
       "      <td>NaN</td>\n",
       "      <td>40.912869</td>\n",
       "      <td>-73.700760</td>\n",
       "    </tr>\n",
       "  </tbody>\n",
       "</table>\n",
       "</div>"
      ],
      "text/plain": [
       "         Unique Key   Incident Zip  X Coordinate (State Plane)  \\\n",
       "count  3.006980e+05  298083.000000                2.971580e+05   \n",
       "mean   3.130054e+07   10848.888645                1.004854e+06   \n",
       "std    5.738547e+05     583.182081                2.175338e+04   \n",
       "min    3.027948e+07      83.000000                9.133570e+05   \n",
       "25%    3.080118e+07   10310.000000                9.919752e+05   \n",
       "50%    3.130436e+07   11208.000000                1.003158e+06   \n",
       "75%    3.178446e+07   11238.000000                1.018372e+06   \n",
       "max    3.231065e+07   11697.000000                1.067173e+06   \n",
       "\n",
       "       Y Coordinate (State Plane)  School or Citywide Complaint  Vehicle Type  \\\n",
       "count               297158.000000                           0.0           0.0   \n",
       "mean                203754.534416                           NaN           NaN   \n",
       "std                  29880.183529                           NaN           NaN   \n",
       "min                 121219.000000                           NaN           NaN   \n",
       "25%                 183343.000000                           NaN           NaN   \n",
       "50%                 201110.500000                           NaN           NaN   \n",
       "75%                 224125.250000                           NaN           NaN   \n",
       "max                 271876.000000                           NaN           NaN   \n",
       "\n",
       "       Taxi Company Borough  Taxi Pick Up Location  Garage Lot Name  \\\n",
       "count                   0.0                    0.0              0.0   \n",
       "mean                    NaN                    NaN              NaN   \n",
       "std                     NaN                    NaN              NaN   \n",
       "min                     NaN                    NaN              NaN   \n",
       "25%                     NaN                    NaN              NaN   \n",
       "50%                     NaN                    NaN              NaN   \n",
       "75%                     NaN                    NaN              NaN   \n",
       "max                     NaN                    NaN              NaN   \n",
       "\n",
       "            Latitude      Longitude  \n",
       "count  297158.000000  297158.000000  \n",
       "mean       40.725885     -73.925630  \n",
       "std         0.082012       0.078454  \n",
       "min        40.499135     -74.254937  \n",
       "25%        40.669796     -73.972142  \n",
       "50%        40.718661     -73.931781  \n",
       "75%        40.781840     -73.876805  \n",
       "max        40.912869     -73.700760  "
      ]
     },
     "execution_count": 6,
     "metadata": {},
     "output_type": "execute_result"
    }
   ],
   "source": [
    "df.describe() #display the info numerical data"
   ]
  },
  {
   "cell_type": "code",
   "execution_count": 7,
   "id": "818e983b-0a5a-4080-9cf3-9567f7be4ce8",
   "metadata": {},
   "outputs": [
    {
     "name": "stderr",
     "output_type": "stream",
     "text": [
      "C:\\Users\\DELL\\AppData\\Local\\Temp\\ipykernel_13936\\352933794.py:1: UserWarning: Could not infer format, so each element will be parsed individually, falling back to `dateutil`. To ensure parsing is consistent and as-expected, please specify a format.\n",
      "  df['Created Date']=pd.to_datetime(df['Created Date'])#convert Created date into datetime format\n",
      "C:\\Users\\DELL\\AppData\\Local\\Temp\\ipykernel_13936\\352933794.py:2: UserWarning: Could not infer format, so each element will be parsed individually, falling back to `dateutil`. To ensure parsing is consistent and as-expected, please specify a format.\n",
      "  df['Closed Date']=pd.to_datetime(df['Closed Date']) #convert Closed date into datatime format\n"
     ]
    }
   ],
   "source": [
    "df['Created Date']=pd.to_datetime(df['Created Date'])#convert Created date into datetime format\n",
    "df['Closed Date']=pd.to_datetime(df['Closed Date']) #convert Closed date into datatime format"
   ]
  },
  {
   "cell_type": "code",
   "execution_count": 8,
   "id": "8cdbc98b-859f-4584-be35-83f0b72c36c3",
   "metadata": {},
   "outputs": [],
   "source": [
    "df['Created Date'] = pd.to_datetime(df['Created Date'], format=\"%m/%d/%Y %I:%M:%S %p\")\n",
    "df['Closed Date'] = pd.to_datetime(df['Closed Date'], format=\"%m/%d/%Y %I:%M:%S %p\")# converting into specific format"
   ]
  },
  {
   "cell_type": "code",
   "execution_count": 9,
   "id": "68f54b4f-ad36-4999-bd28-68c065334422",
   "metadata": {},
   "outputs": [
    {
     "data": {
      "text/html": [
       "<div>\n",
       "<style scoped>\n",
       "    .dataframe tbody tr th:only-of-type {\n",
       "        vertical-align: middle;\n",
       "    }\n",
       "\n",
       "    .dataframe tbody tr th {\n",
       "        vertical-align: top;\n",
       "    }\n",
       "\n",
       "    .dataframe thead th {\n",
       "        text-align: right;\n",
       "    }\n",
       "</style>\n",
       "<table border=\"1\" class=\"dataframe\">\n",
       "  <thead>\n",
       "    <tr style=\"text-align: right;\">\n",
       "      <th></th>\n",
       "      <th>Unique Key</th>\n",
       "      <th>Created Date</th>\n",
       "      <th>Closed Date</th>\n",
       "      <th>Agency</th>\n",
       "      <th>Agency Name</th>\n",
       "      <th>Complaint Type</th>\n",
       "      <th>Descriptor</th>\n",
       "      <th>Location Type</th>\n",
       "      <th>Incident Zip</th>\n",
       "      <th>Incident Address</th>\n",
       "      <th>...</th>\n",
       "      <th>Bridge Highway Name</th>\n",
       "      <th>Bridge Highway Direction</th>\n",
       "      <th>Road Ramp</th>\n",
       "      <th>Bridge Highway Segment</th>\n",
       "      <th>Garage Lot Name</th>\n",
       "      <th>Ferry Direction</th>\n",
       "      <th>Ferry Terminal Name</th>\n",
       "      <th>Latitude</th>\n",
       "      <th>Longitude</th>\n",
       "      <th>Location</th>\n",
       "    </tr>\n",
       "  </thead>\n",
       "  <tbody>\n",
       "    <tr>\n",
       "      <th>0</th>\n",
       "      <td>32310363</td>\n",
       "      <td>2015-12-31 23:59:45</td>\n",
       "      <td>2016-01-01 00:55:00</td>\n",
       "      <td>NYPD</td>\n",
       "      <td>New York City Police Department</td>\n",
       "      <td>Noise - Street/Sidewalk</td>\n",
       "      <td>Loud Music/Party</td>\n",
       "      <td>Street/Sidewalk</td>\n",
       "      <td>10034.0</td>\n",
       "      <td>71 VERMILYEA AVENUE</td>\n",
       "      <td>...</td>\n",
       "      <td>NaN</td>\n",
       "      <td>NaN</td>\n",
       "      <td>NaN</td>\n",
       "      <td>NaN</td>\n",
       "      <td>NaN</td>\n",
       "      <td>NaN</td>\n",
       "      <td>NaN</td>\n",
       "      <td>40.865682</td>\n",
       "      <td>-73.923501</td>\n",
       "      <td>(40.86568153633767, -73.92350095571744)</td>\n",
       "    </tr>\n",
       "    <tr>\n",
       "      <th>1</th>\n",
       "      <td>32309934</td>\n",
       "      <td>2015-12-31 23:59:44</td>\n",
       "      <td>2016-01-01 01:26:00</td>\n",
       "      <td>NYPD</td>\n",
       "      <td>New York City Police Department</td>\n",
       "      <td>Blocked Driveway</td>\n",
       "      <td>No Access</td>\n",
       "      <td>Street/Sidewalk</td>\n",
       "      <td>11105.0</td>\n",
       "      <td>27-07 23 AVENUE</td>\n",
       "      <td>...</td>\n",
       "      <td>NaN</td>\n",
       "      <td>NaN</td>\n",
       "      <td>NaN</td>\n",
       "      <td>NaN</td>\n",
       "      <td>NaN</td>\n",
       "      <td>NaN</td>\n",
       "      <td>NaN</td>\n",
       "      <td>40.775945</td>\n",
       "      <td>-73.915094</td>\n",
       "      <td>(40.775945312321085, -73.91509393898605)</td>\n",
       "    </tr>\n",
       "    <tr>\n",
       "      <th>2</th>\n",
       "      <td>32309159</td>\n",
       "      <td>2015-12-31 23:59:29</td>\n",
       "      <td>2016-01-01 04:51:00</td>\n",
       "      <td>NYPD</td>\n",
       "      <td>New York City Police Department</td>\n",
       "      <td>Blocked Driveway</td>\n",
       "      <td>No Access</td>\n",
       "      <td>Street/Sidewalk</td>\n",
       "      <td>10458.0</td>\n",
       "      <td>2897 VALENTINE AVENUE</td>\n",
       "      <td>...</td>\n",
       "      <td>NaN</td>\n",
       "      <td>NaN</td>\n",
       "      <td>NaN</td>\n",
       "      <td>NaN</td>\n",
       "      <td>NaN</td>\n",
       "      <td>NaN</td>\n",
       "      <td>NaN</td>\n",
       "      <td>40.870325</td>\n",
       "      <td>-73.888525</td>\n",
       "      <td>(40.870324522111424, -73.88852464418646)</td>\n",
       "    </tr>\n",
       "  </tbody>\n",
       "</table>\n",
       "<p>3 rows × 53 columns</p>\n",
       "</div>"
      ],
      "text/plain": [
       "   Unique Key        Created Date         Closed Date Agency  \\\n",
       "0    32310363 2015-12-31 23:59:45 2016-01-01 00:55:00   NYPD   \n",
       "1    32309934 2015-12-31 23:59:44 2016-01-01 01:26:00   NYPD   \n",
       "2    32309159 2015-12-31 23:59:29 2016-01-01 04:51:00   NYPD   \n",
       "\n",
       "                       Agency Name           Complaint Type        Descriptor  \\\n",
       "0  New York City Police Department  Noise - Street/Sidewalk  Loud Music/Party   \n",
       "1  New York City Police Department         Blocked Driveway         No Access   \n",
       "2  New York City Police Department         Blocked Driveway         No Access   \n",
       "\n",
       "     Location Type  Incident Zip       Incident Address  ...  \\\n",
       "0  Street/Sidewalk       10034.0    71 VERMILYEA AVENUE  ...   \n",
       "1  Street/Sidewalk       11105.0        27-07 23 AVENUE  ...   \n",
       "2  Street/Sidewalk       10458.0  2897 VALENTINE AVENUE  ...   \n",
       "\n",
       "  Bridge Highway Name Bridge Highway Direction Road Ramp  \\\n",
       "0                 NaN                      NaN       NaN   \n",
       "1                 NaN                      NaN       NaN   \n",
       "2                 NaN                      NaN       NaN   \n",
       "\n",
       "  Bridge Highway Segment Garage Lot Name Ferry Direction Ferry Terminal Name  \\\n",
       "0                    NaN             NaN             NaN                 NaN   \n",
       "1                    NaN             NaN             NaN                 NaN   \n",
       "2                    NaN             NaN             NaN                 NaN   \n",
       "\n",
       "    Latitude  Longitude                                  Location  \n",
       "0  40.865682 -73.923501   (40.86568153633767, -73.92350095571744)  \n",
       "1  40.775945 -73.915094  (40.775945312321085, -73.91509393898605)  \n",
       "2  40.870325 -73.888525  (40.870324522111424, -73.88852464418646)  \n",
       "\n",
       "[3 rows x 53 columns]"
      ]
     },
     "execution_count": 9,
     "metadata": {},
     "output_type": "execute_result"
    }
   ],
   "source": [
    "df.head(3) #to verify the closed date and created date format"
   ]
  },
  {
   "cell_type": "code",
   "execution_count": 10,
   "id": "f61c5ca3-ce36-4069-b649-8c00841d146c",
   "metadata": {},
   "outputs": [],
   "source": [
    "df['Request_Closing_Time']=df['Created Date']-df['Closed Date'] #calculating Request_Closing_Time"
   ]
  },
  {
   "cell_type": "code",
   "execution_count": 11,
   "id": "6863f789-4c5e-4a63-9bd7-b8487e5d8ecd",
   "metadata": {},
   "outputs": [
    {
     "data": {
      "text/plain": [
       "0        -1 days +23:04:45\n",
       "1        -1 days +22:33:44\n",
       "2        -1 days +19:08:29\n",
       "3        -1 days +16:14:46\n",
       "4        -1 days +20:32:58\n",
       "                ...       \n",
       "300693                 NaT\n",
       "300694   -1 days +21:59:29\n",
       "300695   -1 days +20:52:43\n",
       "300696   -1 days +19:54:27\n",
       "300697   -1 days +19:51:11\n",
       "Name: Request_Closing_Time, Length: 300698, dtype: timedelta64[ns]"
      ]
     },
     "execution_count": 11,
     "metadata": {},
     "output_type": "execute_result"
    }
   ],
   "source": [
    "df['Request_Closing_Time'] #print Request_Closing_Time"
   ]
  },
  {
   "cell_type": "code",
   "execution_count": 12,
   "id": "14dbb924-15bb-4445-8572-12c57448b181",
   "metadata": {},
   "outputs": [
    {
     "data": {
      "text/html": [
       "<div>\n",
       "<style scoped>\n",
       "    .dataframe tbody tr th:only-of-type {\n",
       "        vertical-align: middle;\n",
       "    }\n",
       "\n",
       "    .dataframe tbody tr th {\n",
       "        vertical-align: top;\n",
       "    }\n",
       "\n",
       "    .dataframe thead th {\n",
       "        text-align: right;\n",
       "    }\n",
       "</style>\n",
       "<table border=\"1\" class=\"dataframe\">\n",
       "  <thead>\n",
       "    <tr style=\"text-align: right;\">\n",
       "      <th></th>\n",
       "      <th>Unique Key</th>\n",
       "      <th>Created Date</th>\n",
       "      <th>Closed Date</th>\n",
       "      <th>Agency</th>\n",
       "      <th>Agency Name</th>\n",
       "      <th>Complaint Type</th>\n",
       "      <th>Descriptor</th>\n",
       "      <th>Location Type</th>\n",
       "      <th>Incident Zip</th>\n",
       "      <th>Incident Address</th>\n",
       "      <th>...</th>\n",
       "      <th>Bridge Highway Direction</th>\n",
       "      <th>Road Ramp</th>\n",
       "      <th>Bridge Highway Segment</th>\n",
       "      <th>Garage Lot Name</th>\n",
       "      <th>Ferry Direction</th>\n",
       "      <th>Ferry Terminal Name</th>\n",
       "      <th>Latitude</th>\n",
       "      <th>Longitude</th>\n",
       "      <th>Location</th>\n",
       "      <th>Request_Closing_Time</th>\n",
       "    </tr>\n",
       "  </thead>\n",
       "  <tbody>\n",
       "    <tr>\n",
       "      <th>0</th>\n",
       "      <td>32310363</td>\n",
       "      <td>2015-12-31 23:59:45</td>\n",
       "      <td>2016-01-01 00:55:00</td>\n",
       "      <td>NYPD</td>\n",
       "      <td>New York City Police Department</td>\n",
       "      <td>Noise - Street/Sidewalk</td>\n",
       "      <td>Loud Music/Party</td>\n",
       "      <td>Street/Sidewalk</td>\n",
       "      <td>10034.0</td>\n",
       "      <td>71 VERMILYEA AVENUE</td>\n",
       "      <td>...</td>\n",
       "      <td>NaN</td>\n",
       "      <td>NaN</td>\n",
       "      <td>NaN</td>\n",
       "      <td>NaN</td>\n",
       "      <td>NaN</td>\n",
       "      <td>NaN</td>\n",
       "      <td>40.865682</td>\n",
       "      <td>-73.923501</td>\n",
       "      <td>(40.86568153633767, -73.92350095571744)</td>\n",
       "      <td>-1 days +23:04:45</td>\n",
       "    </tr>\n",
       "    <tr>\n",
       "      <th>1</th>\n",
       "      <td>32309934</td>\n",
       "      <td>2015-12-31 23:59:44</td>\n",
       "      <td>2016-01-01 01:26:00</td>\n",
       "      <td>NYPD</td>\n",
       "      <td>New York City Police Department</td>\n",
       "      <td>Blocked Driveway</td>\n",
       "      <td>No Access</td>\n",
       "      <td>Street/Sidewalk</td>\n",
       "      <td>11105.0</td>\n",
       "      <td>27-07 23 AVENUE</td>\n",
       "      <td>...</td>\n",
       "      <td>NaN</td>\n",
       "      <td>NaN</td>\n",
       "      <td>NaN</td>\n",
       "      <td>NaN</td>\n",
       "      <td>NaN</td>\n",
       "      <td>NaN</td>\n",
       "      <td>40.775945</td>\n",
       "      <td>-73.915094</td>\n",
       "      <td>(40.775945312321085, -73.91509393898605)</td>\n",
       "      <td>-1 days +22:33:44</td>\n",
       "    </tr>\n",
       "    <tr>\n",
       "      <th>2</th>\n",
       "      <td>32309159</td>\n",
       "      <td>2015-12-31 23:59:29</td>\n",
       "      <td>2016-01-01 04:51:00</td>\n",
       "      <td>NYPD</td>\n",
       "      <td>New York City Police Department</td>\n",
       "      <td>Blocked Driveway</td>\n",
       "      <td>No Access</td>\n",
       "      <td>Street/Sidewalk</td>\n",
       "      <td>10458.0</td>\n",
       "      <td>2897 VALENTINE AVENUE</td>\n",
       "      <td>...</td>\n",
       "      <td>NaN</td>\n",
       "      <td>NaN</td>\n",
       "      <td>NaN</td>\n",
       "      <td>NaN</td>\n",
       "      <td>NaN</td>\n",
       "      <td>NaN</td>\n",
       "      <td>40.870325</td>\n",
       "      <td>-73.888525</td>\n",
       "      <td>(40.870324522111424, -73.88852464418646)</td>\n",
       "      <td>-1 days +19:08:29</td>\n",
       "    </tr>\n",
       "    <tr>\n",
       "      <th>3</th>\n",
       "      <td>32305098</td>\n",
       "      <td>2015-12-31 23:57:46</td>\n",
       "      <td>2016-01-01 07:43:00</td>\n",
       "      <td>NYPD</td>\n",
       "      <td>New York City Police Department</td>\n",
       "      <td>Illegal Parking</td>\n",
       "      <td>Commercial Overnight Parking</td>\n",
       "      <td>Street/Sidewalk</td>\n",
       "      <td>10461.0</td>\n",
       "      <td>2940 BAISLEY AVENUE</td>\n",
       "      <td>...</td>\n",
       "      <td>NaN</td>\n",
       "      <td>NaN</td>\n",
       "      <td>NaN</td>\n",
       "      <td>NaN</td>\n",
       "      <td>NaN</td>\n",
       "      <td>NaN</td>\n",
       "      <td>40.835994</td>\n",
       "      <td>-73.828379</td>\n",
       "      <td>(40.83599404683083, -73.82837939584206)</td>\n",
       "      <td>-1 days +16:14:46</td>\n",
       "    </tr>\n",
       "    <tr>\n",
       "      <th>4</th>\n",
       "      <td>32306529</td>\n",
       "      <td>2015-12-31 23:56:58</td>\n",
       "      <td>2016-01-01 03:24:00</td>\n",
       "      <td>NYPD</td>\n",
       "      <td>New York City Police Department</td>\n",
       "      <td>Illegal Parking</td>\n",
       "      <td>Blocked Sidewalk</td>\n",
       "      <td>Street/Sidewalk</td>\n",
       "      <td>11373.0</td>\n",
       "      <td>87-14 57 ROAD</td>\n",
       "      <td>...</td>\n",
       "      <td>NaN</td>\n",
       "      <td>NaN</td>\n",
       "      <td>NaN</td>\n",
       "      <td>NaN</td>\n",
       "      <td>NaN</td>\n",
       "      <td>NaN</td>\n",
       "      <td>40.733060</td>\n",
       "      <td>-73.874170</td>\n",
       "      <td>(40.733059618956815, -73.87416975810375)</td>\n",
       "      <td>-1 days +20:32:58</td>\n",
       "    </tr>\n",
       "  </tbody>\n",
       "</table>\n",
       "<p>5 rows × 54 columns</p>\n",
       "</div>"
      ],
      "text/plain": [
       "   Unique Key        Created Date         Closed Date Agency  \\\n",
       "0    32310363 2015-12-31 23:59:45 2016-01-01 00:55:00   NYPD   \n",
       "1    32309934 2015-12-31 23:59:44 2016-01-01 01:26:00   NYPD   \n",
       "2    32309159 2015-12-31 23:59:29 2016-01-01 04:51:00   NYPD   \n",
       "3    32305098 2015-12-31 23:57:46 2016-01-01 07:43:00   NYPD   \n",
       "4    32306529 2015-12-31 23:56:58 2016-01-01 03:24:00   NYPD   \n",
       "\n",
       "                       Agency Name           Complaint Type  \\\n",
       "0  New York City Police Department  Noise - Street/Sidewalk   \n",
       "1  New York City Police Department         Blocked Driveway   \n",
       "2  New York City Police Department         Blocked Driveway   \n",
       "3  New York City Police Department          Illegal Parking   \n",
       "4  New York City Police Department          Illegal Parking   \n",
       "\n",
       "                     Descriptor    Location Type  Incident Zip  \\\n",
       "0              Loud Music/Party  Street/Sidewalk       10034.0   \n",
       "1                     No Access  Street/Sidewalk       11105.0   \n",
       "2                     No Access  Street/Sidewalk       10458.0   \n",
       "3  Commercial Overnight Parking  Street/Sidewalk       10461.0   \n",
       "4              Blocked Sidewalk  Street/Sidewalk       11373.0   \n",
       "\n",
       "        Incident Address  ... Bridge Highway Direction Road Ramp  \\\n",
       "0    71 VERMILYEA AVENUE  ...                      NaN       NaN   \n",
       "1        27-07 23 AVENUE  ...                      NaN       NaN   \n",
       "2  2897 VALENTINE AVENUE  ...                      NaN       NaN   \n",
       "3    2940 BAISLEY AVENUE  ...                      NaN       NaN   \n",
       "4          87-14 57 ROAD  ...                      NaN       NaN   \n",
       "\n",
       "  Bridge Highway Segment Garage Lot Name Ferry Direction Ferry Terminal Name  \\\n",
       "0                    NaN             NaN             NaN                 NaN   \n",
       "1                    NaN             NaN             NaN                 NaN   \n",
       "2                    NaN             NaN             NaN                 NaN   \n",
       "3                    NaN             NaN             NaN                 NaN   \n",
       "4                    NaN             NaN             NaN                 NaN   \n",
       "\n",
       "    Latitude  Longitude                                  Location  \\\n",
       "0  40.865682 -73.923501   (40.86568153633767, -73.92350095571744)   \n",
       "1  40.775945 -73.915094  (40.775945312321085, -73.91509393898605)   \n",
       "2  40.870325 -73.888525  (40.870324522111424, -73.88852464418646)   \n",
       "3  40.835994 -73.828379   (40.83599404683083, -73.82837939584206)   \n",
       "4  40.733060 -73.874170  (40.733059618956815, -73.87416975810375)   \n",
       "\n",
       "  Request_Closing_Time  \n",
       "0    -1 days +23:04:45  \n",
       "1    -1 days +22:33:44  \n",
       "2    -1 days +19:08:29  \n",
       "3    -1 days +16:14:46  \n",
       "4    -1 days +20:32:58  \n",
       "\n",
       "[5 rows x 54 columns]"
      ]
     },
     "execution_count": 12,
     "metadata": {},
     "output_type": "execute_result"
    }
   ],
   "source": [
    "df.head(5) "
   ]
  },
  {
   "cell_type": "code",
   "execution_count": 13,
   "id": "02e35e0b-c6b6-4415-9896-08ba30828611",
   "metadata": {},
   "outputs": [],
   "source": [
    "irrelevantcolumns = ['Agency Name', 'Incident Address', 'Street Name', 'Cross Street 1', 'Cross Street 2',\n",
    "    'Intersection Street 1', 'Intersection Street 2', 'Address Type', 'Park Facility Name',\n",
    "    'Park Borough', 'School Name', 'School Number', 'School Region', 'School Code',\n",
    "    'School Phone Number', 'School Address', 'School City', 'School State', 'School Zip',\n",
    "    'School Not Found', 'School or Citywide Complaint', 'Vehicle Type', 'Taxi Company Borough',\n",
    "    'Taxi Pick Up Location', 'Bridge Highway Name', 'Bridge Highway Direction', 'Road Ramp',\n",
    "    'Bridge Highway Segment', 'Garage Lot Name', 'Ferry Direction', 'Ferry Terminal Name',\n",
    "    'Landmark', 'X Coordinate (State Plane)', 'Y Coordinate (State Plane)', 'Due Date',\n",
    "    'Resolution Action Updated Date', 'Community Board', 'Facility Type', 'Location'] #list of irrelevant columns"
   ]
  },
  {
   "cell_type": "code",
   "execution_count": 14,
   "id": "f1d81256-d2f7-4fcd-bcd7-152f23651395",
   "metadata": {},
   "outputs": [
    {
     "data": {
      "text/plain": [
       "Index(['Unique Key', 'Created Date', 'Closed Date', 'Agency', 'Agency Name',\n",
       "       'Complaint Type', 'Descriptor', 'Location Type', 'Incident Zip',\n",
       "       'Incident Address', 'Street Name', 'Cross Street 1', 'Cross Street 2',\n",
       "       'Intersection Street 1', 'Intersection Street 2', 'Address Type',\n",
       "       'City', 'Landmark', 'Facility Type', 'Status', 'Due Date',\n",
       "       'Resolution Description', 'Resolution Action Updated Date',\n",
       "       'Community Board', 'Borough', 'X Coordinate (State Plane)',\n",
       "       'Y Coordinate (State Plane)', 'Park Facility Name', 'Park Borough',\n",
       "       'School Name', 'School Number', 'School Region', 'School Code',\n",
       "       'School Phone Number', 'School Address', 'School City', 'School State',\n",
       "       'School Zip', 'School Not Found', 'School or Citywide Complaint',\n",
       "       'Vehicle Type', 'Taxi Company Borough', 'Taxi Pick Up Location',\n",
       "       'Bridge Highway Name', 'Bridge Highway Direction', 'Road Ramp',\n",
       "       'Bridge Highway Segment', 'Garage Lot Name', 'Ferry Direction',\n",
       "       'Ferry Terminal Name', 'Latitude', 'Longitude', 'Location',\n",
       "       'Request_Closing_Time'],\n",
       "      dtype='object')"
      ]
     },
     "execution_count": 14,
     "metadata": {},
     "output_type": "execute_result"
    }
   ],
   "source": [
    "df.columns #list all columns"
   ]
  },
  {
   "cell_type": "code",
   "execution_count": 15,
   "id": "635efae3-2b7b-416a-84f2-5fd897fa9384",
   "metadata": {},
   "outputs": [],
   "source": [
    "columns=df.columns # will assign columns into variable columns"
   ]
  },
  {
   "cell_type": "code",
   "execution_count": 16,
   "id": "62f8273e-3e4c-47e8-9eda-c1a03178f244",
   "metadata": {},
   "outputs": [],
   "source": [
    "df.drop(columns=irrelevantcolumns,inplace=True) #dropping irrelevant columns and inplace =True to updata dataframe"
   ]
  },
  {
   "cell_type": "code",
   "execution_count": 17,
   "id": "05e82084-c169-4bc7-9e49-5829144cefac",
   "metadata": {},
   "outputs": [
    {
     "data": {
      "text/plain": [
       "Index(['Unique Key', 'Created Date', 'Closed Date', 'Agency', 'Complaint Type',\n",
       "       'Descriptor', 'Location Type', 'Incident Zip', 'City', 'Status',\n",
       "       'Resolution Description', 'Borough', 'Latitude', 'Longitude',\n",
       "       'Request_Closing_Time'],\n",
       "      dtype='object')"
      ]
     },
     "execution_count": 17,
     "metadata": {},
     "output_type": "execute_result"
    }
   ],
   "source": [
    "df.columns #display columns after dropping"
   ]
  },
  {
   "cell_type": "code",
   "execution_count": 18,
   "id": "e7f315c3-3784-41db-a26d-39de2bb04fe8",
   "metadata": {},
   "outputs": [
    {
     "data": {
      "text/html": [
       "<div>\n",
       "<style scoped>\n",
       "    .dataframe tbody tr th:only-of-type {\n",
       "        vertical-align: middle;\n",
       "    }\n",
       "\n",
       "    .dataframe tbody tr th {\n",
       "        vertical-align: top;\n",
       "    }\n",
       "\n",
       "    .dataframe thead th {\n",
       "        text-align: right;\n",
       "    }\n",
       "</style>\n",
       "<table border=\"1\" class=\"dataframe\">\n",
       "  <thead>\n",
       "    <tr style=\"text-align: right;\">\n",
       "      <th></th>\n",
       "      <th>Unique Key</th>\n",
       "      <th>Created Date</th>\n",
       "      <th>Closed Date</th>\n",
       "      <th>Agency</th>\n",
       "      <th>Complaint Type</th>\n",
       "      <th>Descriptor</th>\n",
       "      <th>Location Type</th>\n",
       "      <th>Incident Zip</th>\n",
       "      <th>City</th>\n",
       "      <th>Status</th>\n",
       "      <th>Resolution Description</th>\n",
       "      <th>Borough</th>\n",
       "      <th>Latitude</th>\n",
       "      <th>Longitude</th>\n",
       "      <th>Request_Closing_Time</th>\n",
       "    </tr>\n",
       "  </thead>\n",
       "  <tbody>\n",
       "    <tr>\n",
       "      <th>0</th>\n",
       "      <td>False</td>\n",
       "      <td>False</td>\n",
       "      <td>False</td>\n",
       "      <td>False</td>\n",
       "      <td>False</td>\n",
       "      <td>False</td>\n",
       "      <td>False</td>\n",
       "      <td>False</td>\n",
       "      <td>False</td>\n",
       "      <td>False</td>\n",
       "      <td>False</td>\n",
       "      <td>False</td>\n",
       "      <td>False</td>\n",
       "      <td>False</td>\n",
       "      <td>False</td>\n",
       "    </tr>\n",
       "    <tr>\n",
       "      <th>1</th>\n",
       "      <td>False</td>\n",
       "      <td>False</td>\n",
       "      <td>False</td>\n",
       "      <td>False</td>\n",
       "      <td>False</td>\n",
       "      <td>False</td>\n",
       "      <td>False</td>\n",
       "      <td>False</td>\n",
       "      <td>False</td>\n",
       "      <td>False</td>\n",
       "      <td>False</td>\n",
       "      <td>False</td>\n",
       "      <td>False</td>\n",
       "      <td>False</td>\n",
       "      <td>False</td>\n",
       "    </tr>\n",
       "    <tr>\n",
       "      <th>2</th>\n",
       "      <td>False</td>\n",
       "      <td>False</td>\n",
       "      <td>False</td>\n",
       "      <td>False</td>\n",
       "      <td>False</td>\n",
       "      <td>False</td>\n",
       "      <td>False</td>\n",
       "      <td>False</td>\n",
       "      <td>False</td>\n",
       "      <td>False</td>\n",
       "      <td>False</td>\n",
       "      <td>False</td>\n",
       "      <td>False</td>\n",
       "      <td>False</td>\n",
       "      <td>False</td>\n",
       "    </tr>\n",
       "    <tr>\n",
       "      <th>3</th>\n",
       "      <td>False</td>\n",
       "      <td>False</td>\n",
       "      <td>False</td>\n",
       "      <td>False</td>\n",
       "      <td>False</td>\n",
       "      <td>False</td>\n",
       "      <td>False</td>\n",
       "      <td>False</td>\n",
       "      <td>False</td>\n",
       "      <td>False</td>\n",
       "      <td>False</td>\n",
       "      <td>False</td>\n",
       "      <td>False</td>\n",
       "      <td>False</td>\n",
       "      <td>False</td>\n",
       "    </tr>\n",
       "    <tr>\n",
       "      <th>4</th>\n",
       "      <td>False</td>\n",
       "      <td>False</td>\n",
       "      <td>False</td>\n",
       "      <td>False</td>\n",
       "      <td>False</td>\n",
       "      <td>False</td>\n",
       "      <td>False</td>\n",
       "      <td>False</td>\n",
       "      <td>False</td>\n",
       "      <td>False</td>\n",
       "      <td>False</td>\n",
       "      <td>False</td>\n",
       "      <td>False</td>\n",
       "      <td>False</td>\n",
       "      <td>False</td>\n",
       "    </tr>\n",
       "    <tr>\n",
       "      <th>...</th>\n",
       "      <td>...</td>\n",
       "      <td>...</td>\n",
       "      <td>...</td>\n",
       "      <td>...</td>\n",
       "      <td>...</td>\n",
       "      <td>...</td>\n",
       "      <td>...</td>\n",
       "      <td>...</td>\n",
       "      <td>...</td>\n",
       "      <td>...</td>\n",
       "      <td>...</td>\n",
       "      <td>...</td>\n",
       "      <td>...</td>\n",
       "      <td>...</td>\n",
       "      <td>...</td>\n",
       "    </tr>\n",
       "    <tr>\n",
       "      <th>300693</th>\n",
       "      <td>False</td>\n",
       "      <td>False</td>\n",
       "      <td>True</td>\n",
       "      <td>False</td>\n",
       "      <td>False</td>\n",
       "      <td>False</td>\n",
       "      <td>False</td>\n",
       "      <td>True</td>\n",
       "      <td>True</td>\n",
       "      <td>False</td>\n",
       "      <td>False</td>\n",
       "      <td>False</td>\n",
       "      <td>True</td>\n",
       "      <td>True</td>\n",
       "      <td>True</td>\n",
       "    </tr>\n",
       "    <tr>\n",
       "      <th>300694</th>\n",
       "      <td>False</td>\n",
       "      <td>False</td>\n",
       "      <td>False</td>\n",
       "      <td>False</td>\n",
       "      <td>False</td>\n",
       "      <td>False</td>\n",
       "      <td>False</td>\n",
       "      <td>False</td>\n",
       "      <td>False</td>\n",
       "      <td>False</td>\n",
       "      <td>False</td>\n",
       "      <td>False</td>\n",
       "      <td>False</td>\n",
       "      <td>False</td>\n",
       "      <td>False</td>\n",
       "    </tr>\n",
       "    <tr>\n",
       "      <th>300695</th>\n",
       "      <td>False</td>\n",
       "      <td>False</td>\n",
       "      <td>False</td>\n",
       "      <td>False</td>\n",
       "      <td>False</td>\n",
       "      <td>False</td>\n",
       "      <td>False</td>\n",
       "      <td>False</td>\n",
       "      <td>False</td>\n",
       "      <td>False</td>\n",
       "      <td>False</td>\n",
       "      <td>False</td>\n",
       "      <td>False</td>\n",
       "      <td>False</td>\n",
       "      <td>False</td>\n",
       "    </tr>\n",
       "    <tr>\n",
       "      <th>300696</th>\n",
       "      <td>False</td>\n",
       "      <td>False</td>\n",
       "      <td>False</td>\n",
       "      <td>False</td>\n",
       "      <td>False</td>\n",
       "      <td>False</td>\n",
       "      <td>False</td>\n",
       "      <td>False</td>\n",
       "      <td>False</td>\n",
       "      <td>False</td>\n",
       "      <td>False</td>\n",
       "      <td>False</td>\n",
       "      <td>False</td>\n",
       "      <td>False</td>\n",
       "      <td>False</td>\n",
       "    </tr>\n",
       "    <tr>\n",
       "      <th>300697</th>\n",
       "      <td>False</td>\n",
       "      <td>False</td>\n",
       "      <td>False</td>\n",
       "      <td>False</td>\n",
       "      <td>False</td>\n",
       "      <td>False</td>\n",
       "      <td>False</td>\n",
       "      <td>False</td>\n",
       "      <td>False</td>\n",
       "      <td>False</td>\n",
       "      <td>False</td>\n",
       "      <td>False</td>\n",
       "      <td>False</td>\n",
       "      <td>False</td>\n",
       "      <td>False</td>\n",
       "    </tr>\n",
       "  </tbody>\n",
       "</table>\n",
       "<p>300698 rows × 15 columns</p>\n",
       "</div>"
      ],
      "text/plain": [
       "        Unique Key  Created Date  Closed Date  Agency  Complaint Type  \\\n",
       "0            False         False        False   False           False   \n",
       "1            False         False        False   False           False   \n",
       "2            False         False        False   False           False   \n",
       "3            False         False        False   False           False   \n",
       "4            False         False        False   False           False   \n",
       "...            ...           ...          ...     ...             ...   \n",
       "300693       False         False         True   False           False   \n",
       "300694       False         False        False   False           False   \n",
       "300695       False         False        False   False           False   \n",
       "300696       False         False        False   False           False   \n",
       "300697       False         False        False   False           False   \n",
       "\n",
       "        Descriptor  Location Type  Incident Zip   City  Status  \\\n",
       "0            False          False         False  False   False   \n",
       "1            False          False         False  False   False   \n",
       "2            False          False         False  False   False   \n",
       "3            False          False         False  False   False   \n",
       "4            False          False         False  False   False   \n",
       "...            ...            ...           ...    ...     ...   \n",
       "300693       False          False          True   True   False   \n",
       "300694       False          False         False  False   False   \n",
       "300695       False          False         False  False   False   \n",
       "300696       False          False         False  False   False   \n",
       "300697       False          False         False  False   False   \n",
       "\n",
       "        Resolution Description  Borough  Latitude  Longitude  \\\n",
       "0                        False    False     False      False   \n",
       "1                        False    False     False      False   \n",
       "2                        False    False     False      False   \n",
       "3                        False    False     False      False   \n",
       "4                        False    False     False      False   \n",
       "...                        ...      ...       ...        ...   \n",
       "300693                   False    False      True       True   \n",
       "300694                   False    False     False      False   \n",
       "300695                   False    False     False      False   \n",
       "300696                   False    False     False      False   \n",
       "300697                   False    False     False      False   \n",
       "\n",
       "        Request_Closing_Time  \n",
       "0                      False  \n",
       "1                      False  \n",
       "2                      False  \n",
       "3                      False  \n",
       "4                      False  \n",
       "...                      ...  \n",
       "300693                  True  \n",
       "300694                 False  \n",
       "300695                 False  \n",
       "300696                 False  \n",
       "300697                 False  \n",
       "\n",
       "[300698 rows x 15 columns]"
      ]
     },
     "execution_count": 18,
     "metadata": {},
     "output_type": "execute_result"
    }
   ],
   "source": [
    "df.isna() #show info of NaN values in boolean "
   ]
  },
  {
   "cell_type": "code",
   "execution_count": 19,
   "id": "69cf55b8-7c0f-4a96-b57f-b17f9471a979",
   "metadata": {},
   "outputs": [
    {
     "data": {
      "text/plain": [
       "Unique Key                   0\n",
       "Created Date                 0\n",
       "Closed Date               2164\n",
       "Agency                       0\n",
       "Complaint Type               0\n",
       "Descriptor                5914\n",
       "Location Type              131\n",
       "Incident Zip              2615\n",
       "City                      2614\n",
       "Status                       0\n",
       "Resolution Description       0\n",
       "Borough                      0\n",
       "Latitude                  3540\n",
       "Longitude                 3540\n",
       "Request_Closing_Time      2164\n",
       "dtype: int64"
      ]
     },
     "execution_count": 19,
     "metadata": {},
     "output_type": "execute_result"
    }
   ],
   "source": [
    "df.isna().sum() #shows total number of NaN values in columns"
   ]
  },
  {
   "cell_type": "code",
   "execution_count": 20,
   "id": "0dc0a5e7-1b47-4790-babd-1093dbabe8e9",
   "metadata": {},
   "outputs": [],
   "source": [
    "df.dropna(inplace=True) #Dropping NaN values"
   ]
  },
  {
   "cell_type": "code",
   "execution_count": 21,
   "id": "bc012a06-404e-4628-81b2-7e9067938617",
   "metadata": {},
   "outputs": [
    {
     "data": {
      "text/plain": [
       "Unique Key                0\n",
       "Created Date              0\n",
       "Closed Date               0\n",
       "Agency                    0\n",
       "Complaint Type            0\n",
       "Descriptor                0\n",
       "Location Type             0\n",
       "Incident Zip              0\n",
       "City                      0\n",
       "Status                    0\n",
       "Resolution Description    0\n",
       "Borough                   0\n",
       "Latitude                  0\n",
       "Longitude                 0\n",
       "Request_Closing_Time      0\n",
       "dtype: int64"
      ]
     },
     "execution_count": 21,
     "metadata": {},
     "output_type": "execute_result"
    }
   ],
   "source": [
    "df.isna().sum() #shows total number of NaN values "
   ]
  },
  {
   "cell_type": "code",
   "execution_count": 22,
   "id": "a9a424b7-038a-48c9-9e1d-7959c03cbc91",
   "metadata": {},
   "outputs": [
    {
     "data": {
      "text/plain": [
       "array([32310363, 32309934, 32309159, ..., 30283424, 30280004, 30281825],\n",
       "      dtype=int64)"
      ]
     },
     "execution_count": 22,
     "metadata": {},
     "output_type": "execute_result"
    }
   ],
   "source": [
    "df['Unique Key'].unique() # shows the unique values in array from unique key"
   ]
  },
  {
   "cell_type": "code",
   "execution_count": 23,
   "id": "6d97aa09-5f79-4961-8d17-81ecf7bf9eb5",
   "metadata": {},
   "outputs": [
    {
     "data": {
      "text/plain": [
       "<DatetimeArray>\n",
       "['2015-12-31 23:59:45', '2015-12-31 23:59:44', '2015-12-31 23:59:29',\n",
       " '2015-12-31 23:57:46', '2015-12-31 23:56:58', '2015-12-31 23:56:30',\n",
       " '2015-12-31 23:55:32', '2015-12-31 23:54:05', '2015-12-31 23:53:58',\n",
       " '2015-12-31 23:52:58',\n",
       " ...\n",
       " '2015-03-29 00:42:48', '2015-03-29 00:37:15', '2015-03-29 00:35:28',\n",
       " '2015-03-29 00:35:23', '2015-03-29 00:35:04', '2015-03-29 00:34:32',\n",
       " '2015-03-29 00:33:28', '2015-03-29 00:33:03', '2015-03-29 00:33:02',\n",
       " '2015-03-29 00:33:01']\n",
       "Length: 251970, dtype: datetime64[ns]"
      ]
     },
     "execution_count": 23,
     "metadata": {},
     "output_type": "execute_result"
    }
   ],
   "source": [
    "df['Created Date'].unique() #shows the unique values in array from Created date"
   ]
  },
  {
   "cell_type": "code",
   "execution_count": 24,
   "id": "b7887cf9-2fa0-4d2a-8011-0a02c98479de",
   "metadata": {},
   "outputs": [
    {
     "data": {
      "text/plain": [
       "<DatetimeArray>\n",
       "['2016-01-01 00:55:00', '2016-01-01 01:26:00', '2016-01-01 04:51:00',\n",
       " '2016-01-01 07:43:00', '2016-01-01 03:24:00', '2016-01-01 01:50:00',\n",
       " '2016-01-01 01:53:00', '2016-01-01 01:42:00', '2016-01-01 08:27:00',\n",
       " '2016-01-01 01:17:00',\n",
       " ...\n",
       " '2015-03-29 00:57:23', '2015-03-29 02:57:41', '2015-03-29 01:02:39',\n",
       " '2015-03-29 04:14:27', '2015-03-29 08:41:24', '2015-03-29 02:52:28',\n",
       " '2015-03-29 01:13:01', '2015-03-29 02:33:59', '2015-03-29 04:38:35',\n",
       " '2015-03-29 04:41:50']\n",
       "Length: 231991, dtype: datetime64[ns]"
      ]
     },
     "execution_count": 24,
     "metadata": {},
     "output_type": "execute_result"
    }
   ],
   "source": [
    "df['Closed Date'].unique() #shows the unique values in array from Closed date"
   ]
  },
  {
   "cell_type": "code",
   "execution_count": 25,
   "id": "3c190848-545f-407d-9d31-c91f93cd48e8",
   "metadata": {},
   "outputs": [
    {
     "data": {
      "text/plain": [
       "array(['NYPD'], dtype=object)"
      ]
     },
     "execution_count": 25,
     "metadata": {},
     "output_type": "execute_result"
    }
   ],
   "source": [
    "df['Agency'].unique() #shows the unique values in array from Agency"
   ]
  },
  {
   "cell_type": "code",
   "execution_count": 26,
   "id": "6b06e65c-a86d-458a-93fb-f66d8435474d",
   "metadata": {},
   "outputs": [
    {
     "data": {
      "text/plain": [
       "array(['Noise - Street/Sidewalk', 'Blocked Driveway', 'Illegal Parking',\n",
       "       'Derelict Vehicle', 'Noise - Commercial',\n",
       "       'Noise - House of Worship', 'Posting Advertisement',\n",
       "       'Noise - Vehicle', 'Animal Abuse', 'Vending', 'Traffic',\n",
       "       'Drinking', 'Noise - Park', 'Graffiti', 'Disorderly Youth'],\n",
       "      dtype=object)"
      ]
     },
     "execution_count": 26,
     "metadata": {},
     "output_type": "execute_result"
    }
   ],
   "source": [
    "df['Complaint Type'].unique() #shows the unique values in array from Complaint Type"
   ]
  },
  {
   "cell_type": "code",
   "execution_count": 27,
   "id": "1acddd26-8292-4777-b91f-80610f79b09d",
   "metadata": {},
   "outputs": [
    {
     "data": {
      "text/plain": [
       "array(['Loud Music/Party', 'No Access', 'Commercial Overnight Parking',\n",
       "       'Blocked Sidewalk', 'Posted Parking Sign Violation',\n",
       "       'Blocked Hydrant', 'With License Plate', 'Partial Access',\n",
       "       'Unauthorized Bus Layover', 'Double Parked Blocking Vehicle',\n",
       "       'Vehicle', 'Loud Talking', 'Banging/Pounding', 'Car/Truck Music',\n",
       "       'Tortured', 'In Prohibited Area', 'Double Parked Blocking Traffic',\n",
       "       'Congestion/Gridlock', 'Neglected', 'Car/Truck Horn', 'In Public',\n",
       "       'Other (complaint details)', 'No Shelter', 'Truck Route Violation',\n",
       "       'Unlicensed', 'Overnight Commercial Storage', 'Engine Idling',\n",
       "       'After Hours - Licensed Est', 'Detached Trailer',\n",
       "       'Underage - Licensed Est', 'Chronic Stoplight Violation',\n",
       "       'Loud Television', 'Chained', 'Building', 'In Car',\n",
       "       'Police Report Requested', 'Chronic Speeding',\n",
       "       'Playing in Unsuitable Place', 'Drag Racing',\n",
       "       'Police Report Not Requested', 'Nuisance/Truant'], dtype=object)"
      ]
     },
     "execution_count": 27,
     "metadata": {},
     "output_type": "execute_result"
    }
   ],
   "source": [
    "df['Descriptor'].unique() #shows the unique values in array from Descriptor"
   ]
  },
  {
   "cell_type": "code",
   "execution_count": 28,
   "id": "e4124662-45bc-406b-afea-1773495df4c6",
   "metadata": {},
   "outputs": [
    {
     "data": {
      "text/plain": [
       "array(['Street/Sidewalk', 'Club/Bar/Restaurant', 'Store/Commercial',\n",
       "       'House of Worship', 'Residential Building/House',\n",
       "       'Residential Building', 'Park/Playground', 'Vacant Lot',\n",
       "       'House and Store', 'Highway', 'Commercial', 'Roadway Tunnel',\n",
       "       'Subway Station', 'Parking Lot'], dtype=object)"
      ]
     },
     "execution_count": 28,
     "metadata": {},
     "output_type": "execute_result"
    }
   ],
   "source": [
    " df['Location Type'].unique() #shows the unique values in array from Location Type"
   ]
  },
  {
   "cell_type": "code",
   "execution_count": 29,
   "id": "371369f1-151c-44a0-a9b1-42f2dc8e7063",
   "metadata": {},
   "outputs": [
    {
     "data": {
      "text/plain": [
       "array([10034., 11105., 10458., 10461., 11373., 11215., 10032., 10457.,\n",
       "       11415., 11219., 11372., 10453., 11208., 11379., 11374., 11412.,\n",
       "       11217., 11234., 10026., 10456., 10030., 10467., 11432., 10031.,\n",
       "       11419., 10024., 11201., 11216., 10462., 11385., 11414., 11213.,\n",
       "       11375., 11211., 10312., 10017., 11417., 10002., 10027., 11209.,\n",
       "       10035., 11418., 11421., 11205., 10468., 11355., 11358., 11210.,\n",
       "       11368., 11427., 11436., 10308., 11364., 10011., 11423., 11230.,\n",
       "       10003., 11221., 11416., 11378., 11236., 11218., 10029., 10028.,\n",
       "       11214., 11207., 11369., 11223., 11220., 10302., 11420., 11354.,\n",
       "       10473., 10301., 11103., 10465., 11377., 11212., 11365., 10472.,\n",
       "       10452., 11203., 10469., 11237., 11434., 11101., 10460., 11229.,\n",
       "       11206., 11102., 10466., 10009., 10033., 11694., 10022., 10470.,\n",
       "       11433., 11428., 11413., 10463., 10471., 10474., 11228., 10014.,\n",
       "       10475., 11225., 11233., 11370., 11204., 11435., 10459., 11238.,\n",
       "       10304., 11367., 10305., 10001., 10314., 10019., 11222., 10023.,\n",
       "       11356., 11235., 10018., 10036., 11106., 10075., 10451., 11366.,\n",
       "       10005., 10303., 10455., 11361., 10309., 10013., 11226., 10012.,\n",
       "       11224., 10016., 11249., 10039., 10128., 10454., 10010., 11360.,\n",
       "       11004., 11691., 10025., 10307., 11232., 10038., 10310., 10040.,\n",
       "       11426., 10306., 11362., 11411., 11429., 11422., 10007., 10065.,\n",
       "       10021., 10004., 11104., 11231., 11357., 11239., 11363., 10037.,\n",
       "       11693., 10280., 11430., 10464., 10006., 11692., 10044., 11001.,\n",
       "       10282., 11371., 10281., 11109., 11040.,    83., 10020., 10000.,\n",
       "       11697., 11251., 10103., 10112., 10069., 11451., 10153., 10041.,\n",
       "       11242., 10119., 10048., 10803., 11695., 10111., 10162., 10123.])"
      ]
     },
     "execution_count": 29,
     "metadata": {},
     "output_type": "execute_result"
    }
   ],
   "source": [
    "df['Incident Zip'].unique() #shows the unique values in array from Incident Zip"
   ]
  },
  {
   "cell_type": "code",
   "execution_count": 30,
   "id": "7f2fd921-e13a-46b7-8cf2-1a26092397b0",
   "metadata": {},
   "outputs": [
    {
     "data": {
      "text/plain": [
       "array(['NEW YORK', 'ASTORIA', 'BRONX', 'ELMHURST', 'BROOKLYN',\n",
       "       'KEW GARDENS', 'JACKSON HEIGHTS', 'MIDDLE VILLAGE', 'REGO PARK',\n",
       "       'SAINT ALBANS', 'JAMAICA', 'SOUTH RICHMOND HILL', 'RIDGEWOOD',\n",
       "       'HOWARD BEACH', 'FOREST HILLS', 'STATEN ISLAND', 'OZONE PARK',\n",
       "       'RICHMOND HILL', 'WOODHAVEN', 'FLUSHING', 'CORONA',\n",
       "       'QUEENS VILLAGE', 'OAKLAND GARDENS', 'HOLLIS', 'MASPETH',\n",
       "       'EAST ELMHURST', 'SOUTH OZONE PARK', 'WOODSIDE', 'FRESH MEADOWS',\n",
       "       'LONG ISLAND CITY', 'ROCKAWAY PARK', 'SPRINGFIELD GARDENS',\n",
       "       'COLLEGE POINT', 'BAYSIDE', 'GLEN OAKS', 'FAR ROCKAWAY',\n",
       "       'BELLEROSE', 'LITTLE NECK', 'CAMBRIA HEIGHTS', 'ROSEDALE',\n",
       "       'SUNNYSIDE', 'WHITESTONE', 'ARVERNE', 'FLORAL PARK',\n",
       "       'NEW HYDE PARK', 'CENTRAL PARK', 'BREEZY POINT', 'QUEENS',\n",
       "       'Astoria', 'Long Island City', 'Woodside', 'East Elmhurst',\n",
       "       'Howard Beach'], dtype=object)"
      ]
     },
     "execution_count": 30,
     "metadata": {},
     "output_type": "execute_result"
    }
   ],
   "source": [
    "df['City'].unique() #shows the unique values in array from City"
   ]
  },
  {
   "cell_type": "code",
   "execution_count": 31,
   "id": "c4a96260-2619-4542-8d20-260a6042e726",
   "metadata": {},
   "outputs": [
    {
     "data": {
      "text/plain": [
       "array(['Closed'], dtype=object)"
      ]
     },
     "execution_count": 31,
     "metadata": {},
     "output_type": "execute_result"
    }
   ],
   "source": [
    "df['Status'].unique() #shows the unique values in array from Status"
   ]
  },
  {
   "cell_type": "code",
   "execution_count": 32,
   "id": "ee38ce42-469e-4091-a60c-1a1bd485b0cc",
   "metadata": {},
   "outputs": [
    {
     "data": {
      "text/plain": [
       "array(['The Police Department responded and upon arrival those responsible for the condition were gone.',\n",
       "       'The Police Department responded to the complaint and with the information available observed no evidence of the violation at that time.',\n",
       "       'The Police Department responded to the complaint and took action to fix the condition.',\n",
       "       'The Police Department issued a summons in response to the complaint.',\n",
       "       'The Police Department responded to the complaint and determined that police action was not necessary.',\n",
       "       'The Police Department reviewed your complaint and provided additional information below.',\n",
       "       'Your request can not be processed at this time because of insufficient contact information. Please create a new Service Request on NYC.gov and provide more detailed contact information.',\n",
       "       \"This complaint does not fall under the Police Department's jurisdiction.\",\n",
       "       'The Police Department responded to the complaint and a report was prepared.',\n",
       "       'The Police Department responded to the complaint but officers were unable to gain entry into the premises.',\n",
       "       'The Police Department made an arrest in response to the complaint.',\n",
       "       \"Your complaint has been forwarded to the New York Police Department for a non-emergency response. If the police determine the vehicle is illegally parked, they will ticket the vehicle and then you may either contact a private towing company to remove the vehicle or ask your local precinct to contact 'rotation tow'. Any fees charged for towing will have to be paid by the vehicle owner. 311 will have additional information in 8 hours. Please note your service request number for future reference.\"],\n",
       "      dtype=object)"
      ]
     },
     "execution_count": 32,
     "metadata": {},
     "output_type": "execute_result"
    }
   ],
   "source": [
    "df['Resolution Description'].unique() #shows the unique values in array from Resolution Description"
   ]
  },
  {
   "cell_type": "code",
   "execution_count": 33,
   "id": "3133a971-28f8-4adc-9485-1cabdb77b313",
   "metadata": {},
   "outputs": [
    {
     "data": {
      "text/plain": [
       "array(['MANHATTAN', 'QUEENS', 'BRONX', 'BROOKLYN', 'STATEN ISLAND'],\n",
       "      dtype=object)"
      ]
     },
     "execution_count": 33,
     "metadata": {},
     "output_type": "execute_result"
    }
   ],
   "source": [
    "df['Borough'].unique()  #shows the unique values in array from Borough"
   ]
  },
  {
   "cell_type": "code",
   "execution_count": 34,
   "id": "f3f89b89-07c0-4455-9222-c5033850c71c",
   "metadata": {},
   "outputs": [
    {
     "data": {
      "text/plain": [
       "array([40.86568154, 40.77594531, 40.87032452, ..., 40.77664592,\n",
       "       40.70635259, 40.71605291])"
      ]
     },
     "execution_count": 34,
     "metadata": {},
     "output_type": "execute_result"
    }
   ],
   "source": [
    "df['Latitude'].unique() #shows the unique values in array from Latitude"
   ]
  },
  {
   "cell_type": "code",
   "execution_count": 35,
   "id": "446f099d-2862-4266-9f90-98957d1a0bae",
   "metadata": {},
   "outputs": [
    {
     "data": {
      "text/plain": [
       "array([-73.92350096, -73.91509394, -73.88852464, ..., -73.94880526,\n",
       "       -73.87124456, -73.9913785 ])"
      ]
     },
     "execution_count": 35,
     "metadata": {},
     "output_type": "execute_result"
    }
   ],
   "source": [
    "df['Longitude'].unique()  #shows the unique values in array from Longitude"
   ]
  },
  {
   "cell_type": "code",
   "execution_count": 36,
   "id": "554fe693-99f8-4323-bf48-8bd870cf4fe3",
   "metadata": {},
   "outputs": [
    {
     "data": {
      "text/plain": [
       "<TimedeltaArray>\n",
       "['-1 days +23:04:45', '-1 days +22:33:44', '-1 days +19:08:29',\n",
       " '-1 days +16:14:46', '-1 days +20:32:58', '-1 days +22:06:30',\n",
       " '-1 days +22:02:32', '-1 days +22:12:05', '-1 days +15:26:58',\n",
       " '-1 days +22:36:58',\n",
       " ...\n",
       " '-1 days +17:13:01', '-1 days +16:31:37', '-1 days +18:46:14',\n",
       " '-1 days +18:40:49', '-1 days +13:37:13', '-1 days +14:13:19',\n",
       " '-1 days +08:19:14', '-1 days +19:15:08', '-1 days +14:15:16',\n",
       " '-1 days +08:17:34']\n",
       "Length: 47134, dtype: timedelta64[ns]"
      ]
     },
     "execution_count": 36,
     "metadata": {},
     "output_type": "execute_result"
    }
   ],
   "source": [
    "df['Request_Closing_Time'].unique() #shows the unique values in array from Request_Closing_Time"
   ]
  },
  {
   "cell_type": "code",
   "execution_count": 37,
   "id": "b9ed1b63-c0a3-40a8-ba49-79bc4214d0d3",
   "metadata": {},
   "outputs": [
    {
     "data": {
      "text/plain": [
       "Unique Key      9.112108e+12\n",
       "Incident Zip    3.160833e+09\n",
       "Latitude        1.185553e+07\n",
       "Longitude      -2.152010e+07\n",
       "dtype: float64"
      ]
     },
     "execution_count": 37,
     "metadata": {},
     "output_type": "execute_result"
    }
   ],
   "source": [
    "sum_total = df.sum(numeric_only=True)\n",
    "sum_total #calculating sum of numeric columns"
   ]
  },
  {
   "cell_type": "code",
   "execution_count": 38,
   "id": "a06f8360-b3e5-42fa-a47e-2c7b58b9002a",
   "metadata": {},
   "outputs": [
    {
     "data": {
      "text/plain": [
       "Unique Key      3.130158e+07\n",
       "Incident Zip    1.085798e+04\n",
       "Latitude        4.072568e+01\n",
       "Longitude      -7.392504e+01\n",
       "dtype: float64"
      ]
     },
     "execution_count": 38,
     "metadata": {},
     "output_type": "execute_result"
    }
   ],
   "source": [
    "mean_total = df.mean(numeric_only=True)\n",
    "mean_total #calculating mean of numeric columns"
   ]
  },
  {
   "cell_type": "code",
   "execution_count": 39,
   "id": "ab13fccd-5a0c-41e5-9f15-2e2eca1e308b",
   "metadata": {},
   "outputs": [
    {
     "data": {
      "text/plain": [
       "Unique Key      -1.176593\n",
       "Incident Zip    37.827777\n",
       "Latitude        -0.734818\n",
       "Longitude        1.455600\n",
       "dtype: float64"
      ]
     },
     "execution_count": 39,
     "metadata": {},
     "output_type": "execute_result"
    }
   ],
   "source": [
    "kurtosis_total = df.kurt(numeric_only=True)\n",
    "kurtosis_total #calculating kurtosis of numeric columns"
   ]
  },
  {
   "cell_type": "code",
   "execution_count": 40,
   "id": "8d6c653d-e0ac-4fbe-8358-85c56399c2c5",
   "metadata": {},
   "outputs": [
    {
     "data": {
      "text/plain": [
       "Unique Key      0.016898\n",
       "Incident Zip   -2.553956\n",
       "Latitude        0.123114\n",
       "Longitude      -0.312739\n",
       "dtype: float64"
      ]
     },
     "execution_count": 40,
     "metadata": {},
     "output_type": "execute_result"
    }
   ],
   "source": [
    "skewness_total = df.skew(numeric_only=True)\n",
    "skewness_total #calculating skewness of numeric columns"
   ]
  },
  {
   "cell_type": "code",
   "execution_count": 41,
   "id": "56e1df20-891a-4940-a5c2-9f2bf4f4e1e2",
   "metadata": {},
   "outputs": [
    {
     "data": {
      "text/plain": [
       "Unique Key      575377.738707\n",
       "Incident Zip       580.280774\n",
       "Latitude             0.082411\n",
       "Longitude            0.078654\n",
       "dtype: float64"
      ]
     },
     "execution_count": 41,
     "metadata": {},
     "output_type": "execute_result"
    }
   ],
   "source": [
    "standarddeviation_total = df.std(numeric_only=True)\n",
    "standarddeviation_total #calculating standard deviation of numeric columns"
   ]
  },
  {
   "cell_type": "code",
   "execution_count": 42,
   "id": "faf1026c-6ea4-41c8-9167-7812945d7f22",
   "metadata": {},
   "outputs": [
    {
     "data": {
      "text/html": [
       "<div>\n",
       "<style scoped>\n",
       "    .dataframe tbody tr th:only-of-type {\n",
       "        vertical-align: middle;\n",
       "    }\n",
       "\n",
       "    .dataframe tbody tr th {\n",
       "        vertical-align: top;\n",
       "    }\n",
       "\n",
       "    .dataframe thead th {\n",
       "        text-align: right;\n",
       "    }\n",
       "</style>\n",
       "<table border=\"1\" class=\"dataframe\">\n",
       "  <thead>\n",
       "    <tr style=\"text-align: right;\">\n",
       "      <th></th>\n",
       "      <th>Unique Key</th>\n",
       "      <th>Incident Zip</th>\n",
       "      <th>Latitude</th>\n",
       "      <th>Longitude</th>\n",
       "    </tr>\n",
       "  </thead>\n",
       "  <tbody>\n",
       "    <tr>\n",
       "      <th>Unique Key</th>\n",
       "      <td>1.000000</td>\n",
       "      <td>0.025492</td>\n",
       "      <td>-0.032613</td>\n",
       "      <td>-0.008621</td>\n",
       "    </tr>\n",
       "    <tr>\n",
       "      <th>Incident Zip</th>\n",
       "      <td>0.025492</td>\n",
       "      <td>1.000000</td>\n",
       "      <td>-0.499081</td>\n",
       "      <td>0.385934</td>\n",
       "    </tr>\n",
       "    <tr>\n",
       "      <th>Latitude</th>\n",
       "      <td>-0.032613</td>\n",
       "      <td>-0.499081</td>\n",
       "      <td>1.000000</td>\n",
       "      <td>0.368819</td>\n",
       "    </tr>\n",
       "    <tr>\n",
       "      <th>Longitude</th>\n",
       "      <td>-0.008621</td>\n",
       "      <td>0.385934</td>\n",
       "      <td>0.368819</td>\n",
       "      <td>1.000000</td>\n",
       "    </tr>\n",
       "  </tbody>\n",
       "</table>\n",
       "</div>"
      ],
      "text/plain": [
       "              Unique Key  Incident Zip  Latitude  Longitude\n",
       "Unique Key      1.000000      0.025492 -0.032613  -0.008621\n",
       "Incident Zip    0.025492      1.000000 -0.499081   0.385934\n",
       "Latitude       -0.032613     -0.499081  1.000000   0.368819\n",
       "Longitude      -0.008621      0.385934  0.368819   1.000000"
      ]
     },
     "execution_count": 42,
     "metadata": {},
     "output_type": "execute_result"
    }
   ],
   "source": [
    "correlation_total=df.corr(numeric_only=True)\n",
    "correlation_total #calculating correlation of numeric columns"
   ]
  },
  {
   "cell_type": "code",
   "execution_count": 54,
   "id": "c0d0df38-9660-4afa-8e78-5629a01b3431",
   "metadata": {},
   "outputs": [
    {
     "data": {
      "image/png": "[encoded data removed]",
      "text/plain": [
       "<Figure size 800x400 with 2 Axes>"
      ]
     },
     "metadata": {},
     "output_type": "display_data"
    }
   ],
   "source": [
    "import matplotlib.pyplot as plt\n",
    "%matplotlib inline\n",
    "import pandas as pd\n",
    "\n",
    "# Data \n",
    "data = {\n",
    "    'Unique Key': [1.000000, 0.025492, -0.032613, -0.008621],\n",
    "    'Incident Zip': [0.025492, 1.000000, -0.499081, 0.385934],\n",
    "    'Latitude': [-0.032613, -0.499081, 1.000000, 0.368819],\n",
    "    'Longitude': [-0.008621, 0.385934, 0.368819, 1.000000]\n",
    "}\n",
    "\n",
    "correlation_matrix = pd.DataFrame(data, index=['Unique Key', 'Incident Zip', 'Latitude', 'Longitude'])\n",
    "\n",
    "# Plot figure size \n",
    "plt.figure(figsize=(8, 4))\n",
    "plt.matshow(correlation_matrix, cmap='plasma', fignum=1)\n",
    "\n",
    "# Add colorbar \n",
    "plt.colorbar(label='Correlation')\n",
    "\n",
    "# Add axis labels with rotation\n",
    "plt.xticks(range(len(correlation_matrix.columns)), correlation_matrix.columns, rotation=45)\n",
    "plt.yticks(range(len(correlation_matrix.index)), correlation_matrix.index)\n",
    "\n",
    "# Plot title as Correlation Heatmap\n",
    "plt.title('Correlation Heatmap')\n",
    "\n",
    "# Show plot\n",
    "plt.show()\n",
    "\n"
   ]
  },
  {
   "cell_type": "code",
   "execution_count": 57,
   "id": "f9e1e2ea-0921-4c19-b1ca-a149a30d6396",
   "metadata": {},
   "outputs": [],
   "source": [
    "df['Request_Closing_Time'] = (df['Closed Date'] - df['Created Date']).dt.total_seconds() / 360"
   ]
  },
  {
   "cell_type": "code",
   "execution_count": 62,
   "id": "b02652fb-83c4-441e-ba5c-731520ba7d85",
   "metadata": {},
   "outputs": [
    {
     "data": {
      "image/png": "[encoded data removed]",
      "text/plain": [
       "<Figure size 1000x600 with 1 Axes>"
      ]
     },
     "metadata": {},
     "output_type": "display_data"
    }
   ],
   "source": [
    "import matplotlib.pyplot as plt\n",
    "# Group and sort data\n",
    "avg_time = df.groupby('Complaint Type')['Request_Closing_Time'].mean().sort_values(ascending=False)\n",
    "\n",
    "# Plot figure size,color,title,xlabel and y label,rotation\n",
    "plt.figure(figsize=(10, 6))\n",
    "plt.bar(avg_time.index, avg_time.values, color='blue')\n",
    "plt.title('Average Request Closing Time by Complaint Type')\n",
    "plt.xlabel('Avg. Request Closing Time (in hours)')\n",
    "plt.ylabel('Complaint Type')\n",
    "plt.xticks(rotation=90)\n",
    "\n",
    "plt.tight_layout()\n",
    "plt.show() #show the graph"
   ]
  },
  {
   "cell_type": "code",
   "execution_count": 63,
   "id": "824c3ed0-8129-4d41-b2c6-f72d950c59ea",
   "metadata": {},
   "outputs": [],
   "source": [
    "Complaint_Type = df.groupby('Location Type')['Request_Closing_Time'].mean() #group by "
   ]
  },
  {
   "cell_type": "code",
   "execution_count": 64,
   "id": "abb16614-55b7-4886-bcaa-b5e0d49d3a8d",
   "metadata": {},
   "outputs": [
    {
     "data": {
      "image/png": "[encoded data removed]",
      "text/plain": [
       "<Figure size 1200x400 with 1 Axes>"
      ]
     },
     "metadata": {},
     "output_type": "display_data"
    }
   ],
   "source": [
    "location_type = list(Complaint_Type.index)  \n",
    "avg_closing_time = Complaint_Type.values\n",
    "#plotting figure and bar\n",
    "plt.figure(figsize=(12, 4))\n",
    "plt.bar(location_type, avg_closing_time, color='blue')\n",
    "\n",
    "#plotting xlabel and ylabel\n",
    "plt.xlabel('Location Type')\n",
    "plt.ylabel('Average Request Closing Time')\n",
    "\n",
    "# plotting title\n",
    "plt.title('Average Request Closing Time per Location Type')\n",
    "\n",
    "#plotting xticks\n",
    "plt.xticks(rotation=90)\n",
    "\n",
    "#plot show\n",
    "plt.show()"
   ]
  },
  {
   "cell_type": "code",
   "execution_count": 81,
   "id": "e6d857c0-a63a-464b-a2ac-aaa6ac1694c3",
   "metadata": {},
   "outputs": [
    {
     "data": {
      "image/png": "[encoded data removed]",
      "text/plain": [
       "<Figure size 1000x500 with 1 Axes>"
      ]
     },
     "metadata": {},
     "output_type": "display_data"
    }
   ],
   "source": [
    "import matplotlib.pyplot as plt\n",
    "\n",
    "# Extract hour from Created date\n",
    "df['Hour'] = df['Created Date'].dt.hour\n",
    "\n",
    "# Count complaints from all hours\n",
    "hour_counts = df['Hour'].value_counts().reindex(range(24), fill_value=0)\n",
    "\n",
    "#show the info of 12 am to 12 am\n",
    "hours = list(hour_counts.index) + [0]\n",
    "counts = list(hour_counts.values) + [hour_counts[0]]\n",
    "labels = [f\"{12 if h == 0 or h == 12 else h % 12} {'AM' if h < 12 else 'PM'}\" for h in hour_counts.index] + ['12 AM']\n",
    "\n",
    "# Plot\n",
    "plt.figure(figsize=(10, 5))\n",
    "plt.bar(range(25), counts, color='blue')\n",
    "plt.title('Complaints by Hour (12 AM to 12 AM)')\n",
    "plt.xlabel('Hour of Day')\n",
    "plt.ylabel('Number of Complaints')\n",
    "plt.xticks(range(25), labels, rotation=90)\n",
    "plt.tight_layout()\n",
    "plt.show()"
   ]
  },
  {
   "cell_type": "code",
   "execution_count": 82,
   "id": "13f30c21-576d-448b-9a10-178db5fd0a52",
   "metadata": {},
   "outputs": [
    {
     "data": {
      "image/png": "[encoded data removed]",
      "text/plain": [
       "<Figure size 1400x500 with 1 Axes>"
      ]
     },
     "metadata": {},
     "output_type": "display_data"
    }
   ],
   "source": [
    "city_counts = df['City'].value_counts() #count values from city column\n",
    "\n",
    "cities = city_counts.index         \n",
    "complaint_counts = city_counts.values  \n",
    "plt.figure(figsize=(14, 5)) #plotting figure size\n",
    "plt.bar(cities, complaint_counts, color='blue')\n",
    "plt.title('Complaints by City') #plotting title \n",
    "plt.xlabel('City') #plotting xlabel\n",
    "plt.ylabel('Number of Complaints') #plotting ylabel\n",
    "plt.xticks(rotation=90)\n",
    "\n",
    "plt.show() # plot show"
   ]
  },
  {
   "cell_type": "code",
   "execution_count": 87,
   "id": "2d64a99e-bf7e-4c14-b90c-6f625b057ea7",
   "metadata": {},
   "outputs": [
    {
     "data": {
      "text/html": [
       "<div>\n",
       "<style scoped>\n",
       "    .dataframe tbody tr th:only-of-type {\n",
       "        vertical-align: middle;\n",
       "    }\n",
       "\n",
       "    .dataframe tbody tr th {\n",
       "        vertical-align: top;\n",
       "    }\n",
       "\n",
       "    .dataframe thead th {\n",
       "        text-align: right;\n",
       "    }\n",
       "</style>\n",
       "<table border=\"1\" class=\"dataframe\">\n",
       "  <thead>\n",
       "    <tr style=\"text-align: right;\">\n",
       "      <th></th>\n",
       "      <th>Location Type</th>\n",
       "      <th>Complaint Type</th>\n",
       "      <th>Request_Closing_Time</th>\n",
       "    </tr>\n",
       "  </thead>\n",
       "  <tbody>\n",
       "    <tr>\n",
       "      <th>0</th>\n",
       "      <td>Street/Sidewalk</td>\n",
       "      <td>Posting Advertisement</td>\n",
       "      <td>18.189933</td>\n",
       "    </tr>\n",
       "    <tr>\n",
       "      <th>1</th>\n",
       "      <td>Parking Lot</td>\n",
       "      <td>Posting Advertisement</td>\n",
       "      <td>21.157540</td>\n",
       "    </tr>\n",
       "    <tr>\n",
       "      <th>2</th>\n",
       "      <td>Roadway Tunnel</td>\n",
       "      <td>Traffic</td>\n",
       "      <td>21.770498</td>\n",
       "    </tr>\n",
       "    <tr>\n",
       "      <th>3</th>\n",
       "      <td>Store/Commercial</td>\n",
       "      <td>Posting Advertisement</td>\n",
       "      <td>23.691667</td>\n",
       "    </tr>\n",
       "    <tr>\n",
       "      <th>4</th>\n",
       "      <td>Store/Commercial</td>\n",
       "      <td>Disorderly Youth</td>\n",
       "      <td>28.394792</td>\n",
       "    </tr>\n",
       "    <tr>\n",
       "      <th>5</th>\n",
       "      <td>Subway Station</td>\n",
       "      <td>Animal Abuse</td>\n",
       "      <td>30.356061</td>\n",
       "    </tr>\n",
       "    <tr>\n",
       "      <th>6</th>\n",
       "      <td>Club/Bar/Restaurant</td>\n",
       "      <td>Noise - Commercial</td>\n",
       "      <td>30.626355</td>\n",
       "    </tr>\n",
       "    <tr>\n",
       "      <th>7</th>\n",
       "      <td>House of Worship</td>\n",
       "      <td>Noise - House of Worship</td>\n",
       "      <td>31.997545</td>\n",
       "    </tr>\n",
       "    <tr>\n",
       "      <th>8</th>\n",
       "      <td>Store/Commercial</td>\n",
       "      <td>Noise - Commercial</td>\n",
       "      <td>32.056273</td>\n",
       "    </tr>\n",
       "    <tr>\n",
       "      <th>9</th>\n",
       "      <td>Store/Commercial</td>\n",
       "      <td>Drinking</td>\n",
       "      <td>32.525957</td>\n",
       "    </tr>\n",
       "    <tr>\n",
       "      <th>10</th>\n",
       "      <td>Park/Playground</td>\n",
       "      <td>Drinking</td>\n",
       "      <td>33.562384</td>\n",
       "    </tr>\n",
       "    <tr>\n",
       "      <th>11</th>\n",
       "      <td>Park/Playground</td>\n",
       "      <td>Noise - Park</td>\n",
       "      <td>34.026696</td>\n",
       "    </tr>\n",
       "    <tr>\n",
       "      <th>12</th>\n",
       "      <td>Highway</td>\n",
       "      <td>Traffic</td>\n",
       "      <td>34.081315</td>\n",
       "    </tr>\n",
       "    <tr>\n",
       "      <th>13</th>\n",
       "      <td>Street/Sidewalk</td>\n",
       "      <td>Noise - Street/Sidewalk</td>\n",
       "      <td>34.422807</td>\n",
       "    </tr>\n",
       "    <tr>\n",
       "      <th>14</th>\n",
       "      <td>Street/Sidewalk</td>\n",
       "      <td>Traffic</td>\n",
       "      <td>34.622832</td>\n",
       "    </tr>\n",
       "    <tr>\n",
       "      <th>15</th>\n",
       "      <td>Park/Playground</td>\n",
       "      <td>Vending</td>\n",
       "      <td>34.746467</td>\n",
       "    </tr>\n",
       "    <tr>\n",
       "      <th>16</th>\n",
       "      <td>Street/Sidewalk</td>\n",
       "      <td>Disorderly Youth</td>\n",
       "      <td>34.880083</td>\n",
       "    </tr>\n",
       "    <tr>\n",
       "      <th>17</th>\n",
       "      <td>Street/Sidewalk</td>\n",
       "      <td>Noise - Vehicle</td>\n",
       "      <td>35.982241</td>\n",
       "    </tr>\n",
       "    <tr>\n",
       "      <th>18</th>\n",
       "      <td>Residential Building/House</td>\n",
       "      <td>Posting Advertisement</td>\n",
       "      <td>36.005093</td>\n",
       "    </tr>\n",
       "    <tr>\n",
       "      <th>19</th>\n",
       "      <td>Street/Sidewalk</td>\n",
       "      <td>Drinking</td>\n",
       "      <td>36.313340</td>\n",
       "    </tr>\n",
       "    <tr>\n",
       "      <th>20</th>\n",
       "      <td>Park/Playground</td>\n",
       "      <td>Animal Abuse</td>\n",
       "      <td>36.669722</td>\n",
       "    </tr>\n",
       "    <tr>\n",
       "      <th>21</th>\n",
       "      <td>Residential Building/House</td>\n",
       "      <td>Drinking</td>\n",
       "      <td>36.782814</td>\n",
       "    </tr>\n",
       "    <tr>\n",
       "      <th>22</th>\n",
       "      <td>Residential Building/House</td>\n",
       "      <td>Disorderly Youth</td>\n",
       "      <td>38.544769</td>\n",
       "    </tr>\n",
       "    <tr>\n",
       "      <th>23</th>\n",
       "      <td>Store/Commercial</td>\n",
       "      <td>Vending</td>\n",
       "      <td>39.738381</td>\n",
       "    </tr>\n",
       "    <tr>\n",
       "      <th>24</th>\n",
       "      <td>Street/Sidewalk</td>\n",
       "      <td>Vending</td>\n",
       "      <td>40.230931</td>\n",
       "    </tr>\n",
       "    <tr>\n",
       "      <th>25</th>\n",
       "      <td>Residential Building/House</td>\n",
       "      <td>Vending</td>\n",
       "      <td>41.970840</td>\n",
       "    </tr>\n",
       "    <tr>\n",
       "      <th>26</th>\n",
       "      <td>Store/Commercial</td>\n",
       "      <td>Animal Abuse</td>\n",
       "      <td>42.796464</td>\n",
       "    </tr>\n",
       "    <tr>\n",
       "      <th>27</th>\n",
       "      <td>Street/Sidewalk</td>\n",
       "      <td>Illegal Parking</td>\n",
       "      <td>44.834520</td>\n",
       "    </tr>\n",
       "    <tr>\n",
       "      <th>28</th>\n",
       "      <td>Club/Bar/Restaurant</td>\n",
       "      <td>Drinking</td>\n",
       "      <td>45.458120</td>\n",
       "    </tr>\n",
       "    <tr>\n",
       "      <th>29</th>\n",
       "      <td>Street/Sidewalk</td>\n",
       "      <td>Blocked Driveway</td>\n",
       "      <td>47.379199</td>\n",
       "    </tr>\n",
       "    <tr>\n",
       "      <th>30</th>\n",
       "      <td>Residential Building</td>\n",
       "      <td>Animal Abuse</td>\n",
       "      <td>48.260706</td>\n",
       "    </tr>\n",
       "    <tr>\n",
       "      <th>31</th>\n",
       "      <td>House and Store</td>\n",
       "      <td>Animal Abuse</td>\n",
       "      <td>50.132616</td>\n",
       "    </tr>\n",
       "    <tr>\n",
       "      <th>32</th>\n",
       "      <td>Street/Sidewalk</td>\n",
       "      <td>Animal Abuse</td>\n",
       "      <td>51.281732</td>\n",
       "    </tr>\n",
       "    <tr>\n",
       "      <th>33</th>\n",
       "      <td>Commercial</td>\n",
       "      <td>Animal Abuse</td>\n",
       "      <td>53.427688</td>\n",
       "    </tr>\n",
       "    <tr>\n",
       "      <th>34</th>\n",
       "      <td>Residential Building/House</td>\n",
       "      <td>Animal Abuse</td>\n",
       "      <td>54.005157</td>\n",
       "    </tr>\n",
       "    <tr>\n",
       "      <th>35</th>\n",
       "      <td>Parking Lot</td>\n",
       "      <td>Animal Abuse</td>\n",
       "      <td>55.467890</td>\n",
       "    </tr>\n",
       "    <tr>\n",
       "      <th>36</th>\n",
       "      <td>Store/Commercial</td>\n",
       "      <td>Graffiti</td>\n",
       "      <td>55.606424</td>\n",
       "    </tr>\n",
       "    <tr>\n",
       "      <th>37</th>\n",
       "      <td>Residential Building/House</td>\n",
       "      <td>Graffiti</td>\n",
       "      <td>58.787996</td>\n",
       "    </tr>\n",
       "    <tr>\n",
       "      <th>38</th>\n",
       "      <td>Street/Sidewalk</td>\n",
       "      <td>Derelict Vehicle</td>\n",
       "      <td>73.431212</td>\n",
       "    </tr>\n",
       "    <tr>\n",
       "      <th>39</th>\n",
       "      <td>Vacant Lot</td>\n",
       "      <td>Derelict Vehicle</td>\n",
       "      <td>74.739250</td>\n",
       "    </tr>\n",
       "    <tr>\n",
       "      <th>40</th>\n",
       "      <td>Highway</td>\n",
       "      <td>Derelict Vehicle</td>\n",
       "      <td>81.957051</td>\n",
       "    </tr>\n",
       "    <tr>\n",
       "      <th>41</th>\n",
       "      <td>Street/Sidewalk</td>\n",
       "      <td>Graffiti</td>\n",
       "      <td>120.375222</td>\n",
       "    </tr>\n",
       "    <tr>\n",
       "      <th>42</th>\n",
       "      <td>Roadway Tunnel</td>\n",
       "      <td>Derelict Vehicle</td>\n",
       "      <td>179.641667</td>\n",
       "    </tr>\n",
       "  </tbody>\n",
       "</table>\n",
       "</div>"
      ],
      "text/plain": [
       "                 Location Type            Complaint Type  Request_Closing_Time\n",
       "0              Street/Sidewalk     Posting Advertisement             18.189933\n",
       "1                  Parking Lot     Posting Advertisement             21.157540\n",
       "2               Roadway Tunnel                   Traffic             21.770498\n",
       "3             Store/Commercial     Posting Advertisement             23.691667\n",
       "4             Store/Commercial          Disorderly Youth             28.394792\n",
       "5               Subway Station              Animal Abuse             30.356061\n",
       "6          Club/Bar/Restaurant        Noise - Commercial             30.626355\n",
       "7             House of Worship  Noise - House of Worship             31.997545\n",
       "8             Store/Commercial        Noise - Commercial             32.056273\n",
       "9             Store/Commercial                  Drinking             32.525957\n",
       "10             Park/Playground                  Drinking             33.562384\n",
       "11             Park/Playground              Noise - Park             34.026696\n",
       "12                     Highway                   Traffic             34.081315\n",
       "13             Street/Sidewalk   Noise - Street/Sidewalk             34.422807\n",
       "14             Street/Sidewalk                   Traffic             34.622832\n",
       "15             Park/Playground                   Vending             34.746467\n",
       "16             Street/Sidewalk          Disorderly Youth             34.880083\n",
       "17             Street/Sidewalk           Noise - Vehicle             35.982241\n",
       "18  Residential Building/House     Posting Advertisement             36.005093\n",
       "19             Street/Sidewalk                  Drinking             36.313340\n",
       "20             Park/Playground              Animal Abuse             36.669722\n",
       "21  Residential Building/House                  Drinking             36.782814\n",
       "22  Residential Building/House          Disorderly Youth             38.544769\n",
       "23            Store/Commercial                   Vending             39.738381\n",
       "24             Street/Sidewalk                   Vending             40.230931\n",
       "25  Residential Building/House                   Vending             41.970840\n",
       "26            Store/Commercial              Animal Abuse             42.796464\n",
       "27             Street/Sidewalk           Illegal Parking             44.834520\n",
       "28         Club/Bar/Restaurant                  Drinking             45.458120\n",
       "29             Street/Sidewalk          Blocked Driveway             47.379199\n",
       "30        Residential Building              Animal Abuse             48.260706\n",
       "31             House and Store              Animal Abuse             50.132616\n",
       "32             Street/Sidewalk              Animal Abuse             51.281732\n",
       "33                  Commercial              Animal Abuse             53.427688\n",
       "34  Residential Building/House              Animal Abuse             54.005157\n",
       "35                 Parking Lot              Animal Abuse             55.467890\n",
       "36            Store/Commercial                  Graffiti             55.606424\n",
       "37  Residential Building/House                  Graffiti             58.787996\n",
       "38             Street/Sidewalk          Derelict Vehicle             73.431212\n",
       "39                  Vacant Lot          Derelict Vehicle             74.739250\n",
       "40                     Highway          Derelict Vehicle             81.957051\n",
       "41             Street/Sidewalk                  Graffiti            120.375222\n",
       "42              Roadway Tunnel          Derelict Vehicle            179.641667"
      ]
     },
     "execution_count": 87,
     "metadata": {},
     "output_type": "execute_result"
    }
   ],
   "source": [
    "\n",
    "# Group by Complaint_Type and Location and calculating their average\n",
    "average_time = df.groupby(['Location Type', 'Complaint Type'])['Request_Closing_Time'].mean()\n",
    "\n",
    "# Sort values \n",
    "average_time= average_time.sort_values().reset_index()\n",
    "\n",
    "# Display average_time values\n",
    "average_time"
   ]
  },
  {
   "cell_type": "code",
   "execution_count": 1,
   "id": "e33b1050-8db5-46d8-b937-24d17ce47d1d",
   "metadata": {},
   "outputs": [
    {
     "ename": "NameError",
     "evalue": "name 'average_time' is not defined",
     "output_type": "error",
     "traceback": [
      "\u001b[1;31m---------------------------------------------------------------------------\u001b[0m",
      "\u001b[1;31mNameError\u001b[0m                                 Traceback (most recent call last)",
      "Cell \u001b[1;32mIn[1], line 7\u001b[0m\n\u001b[0;32m      3\u001b[0m \u001b[38;5;66;03m# plotting figure size\u001b[39;00m\n\u001b[0;32m      4\u001b[0m plt\u001b[38;5;241m.\u001b[39mfigure(figsize\u001b[38;5;241m=\u001b[39m(\u001b[38;5;241m12\u001b[39m, \u001b[38;5;241m6\u001b[39m))\n\u001b[1;32m----> 7\u001b[0m x_labels \u001b[38;5;241m=\u001b[39m average_time[\u001b[38;5;124m'\u001b[39m\u001b[38;5;124mLocation Type\u001b[39m\u001b[38;5;124m'\u001b[39m] \u001b[38;5;241m+\u001b[39m \u001b[38;5;124m'\u001b[39m\u001b[38;5;124m - \u001b[39m\u001b[38;5;124m'\u001b[39m \u001b[38;5;241m+\u001b[39m average_time[\u001b[38;5;124m'\u001b[39m\u001b[38;5;124mComplaint Type\u001b[39m\u001b[38;5;124m'\u001b[39m]\n\u001b[0;32m      9\u001b[0m \u001b[38;5;66;03m# plotting bar\u001b[39;00m\n\u001b[0;32m     10\u001b[0m plt\u001b[38;5;241m.\u001b[39mbar(x_labels, average_time[\u001b[38;5;124m'\u001b[39m\u001b[38;5;124mRequest_Closing_Time\u001b[39m\u001b[38;5;124m'\u001b[39m], color\u001b[38;5;241m=\u001b[39m\u001b[38;5;124m'\u001b[39m\u001b[38;5;124mblue\u001b[39m\u001b[38;5;124m'\u001b[39m)\n",
      "\u001b[1;31mNameError\u001b[0m: name 'average_time' is not defined"
     ]
    },
    {
     "data": {
      "text/plain": [
       "<Figure size 1200x600 with 0 Axes>"
      ]
     },
     "metadata": {},
     "output_type": "display_data"
    }
   ],
   "source": [
    "import matplotlib.pyplot as plt\n",
    "\n",
    "# plotting figure size\n",
    "plt.figure(figsize=(12, 6))\n",
    "\n",
    "\n",
    "x_labels = average_time['Location Type'] + ' - ' + average_time['Complaint Type']\n",
    "\n",
    "# plotting bar\n",
    "plt.bar(x_labels, average_time['Request_Closing_Time'], color='blue')\n",
    "\n",
    "# plotting title,xlabel and ylabel\n",
    "plt.title('Average Request Closing Time by Location Type and Complaint Type')\n",
    "plt.xlabel('Location Type and  Complaint Type')\n",
    "plt.ylabel('Average Request Closing Time (Minutes)')\n",
    "\n",
    "# Rotate x-axis labels \n",
    "plt.xticks(rotation=90)  \n",
    "\n",
    "# Adjust layout \n",
    "plt.tight_layout()\n",
    "\n",
    "# Show the plot\n",
    "plt.show()\n"
   ]
  },
  {
   "cell_type": "code",
   "execution_count": 131,
   "id": "b9055403-79d5-4b1c-8d63-1b0790975705",
   "metadata": {},
   "outputs": [
    {
     "name": "stdout",
     "output_type": "stream",
     "text": [
      "F-statistic: 578.9120337398356\n",
      "P-value: 0.0\n",
      "We can reject the Null Hypothesis.\n"
     ]
    }
   ],
   "source": [
    "import scipy.stats as stats\n",
    "#groupby complaint type and Request_Closing_Time\n",
    "complaint_group = df.groupby('Complaint Type')['Request_Closing_Time'].apply(list)\n",
    "\n",
    "# Perform one-way ANOVA\n",
    "f_statistic, p_value = stats.f_oneway(*complaint_group)\n",
    "\n",
    "# display  p values\n",
    "print(f\"F-statistic: {f_statistic}\")\n",
    "print(f\"P-value: {p_value}\")\n",
    "\n",
    "# interpet null hypothesis\n",
    "alpha = 0.05  \n",
    "\n",
    "if p_value <= alpha:\n",
    "    print(\"We can reject the Null Hypothesis.\")\n",
    "else:\n",
    "    print(\"We can accept the Null Hypothesis.\")\n"
   ]
  },
  {
   "cell_type": "code",
   "execution_count": 132,
   "id": "718fe3a2-dc90-4712-8a0c-d8fed4ec535b",
   "metadata": {},
   "outputs": [
    {
     "name": "stdout",
     "output_type": "stream",
     "text": [
      "The p-value of our test is 0.0\n",
      "We can reject the null hypothesis\n"
     ]
    }
   ],
   "source": [
    "import pandas as pd\n",
    "from scipy.stats import chi2_contingency\n",
    "\n",
    "#create  contingency table\n",
    "data_total = pd.crosstab(df['Complaint Type'], df['City'])\n",
    "\n",
    "test, p_val, dof, expected_val = chi2_contingency(data_total)\n",
    "#interpeting the results to know null hypothesis\n",
    "alpha = 0.05\n",
    "print(\"The p-value of our test is \" + str(p_val))\n",
    "\n",
    "if p_val <= alpha:\n",
    "    print('We can reject the null hypothesis')\n",
    "else:\n",
    "    print('We can accept the null hypothesis')"
   ]
  }
 ],
 "metadata": {
  "kernelspec": {
   "display_name": "Python 3 (ipykernel)",
   "language": "python",
   "name": "python3"
  },
  "language_info": {
   "codemirror_mode": {
    "name": "ipython",
    "version": 3
   },
   "file_extension": ".py",
   "mimetype": "text/x-python",
   "name": "python",
   "nbconvert_exporter": "python",
   "pygments_lexer": "ipython3",
   "version": "3.12.7"
  }
 },
 "nbformat": 4,
 "nbformat_minor": 5
}
